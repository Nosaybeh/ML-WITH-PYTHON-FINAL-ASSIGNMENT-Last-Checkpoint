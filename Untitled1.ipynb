{
  "nbformat": 4,
  "nbformat_minor": 0,
  "metadata": {
    "colab": {
      "name": "Untitled0.ipynb",
      "provenance": [],
      "collapsed_sections": [],
      "toc_visible": true,
      "authorship_tag": "ABX9TyMsHAV508vDqAT3hYnq1klm",
      "include_colab_link": true
    },
    "kernelspec": {
      "name": "python3",
      "display_name": "Python 3"
    }
  },
  "cells": [
    {
      "cell_type": "markdown",
      "metadata": {
        "id": "view-in-github",
        "colab_type": "text"
      },
      "source": [
        "<a href=\"https://colab.research.google.com/github/Nosaybeh/ML-WITH-PYTHON-FINAL-ASSIGNMENT-Last-Checkpoint/blob/main/Untitled1.ipynb\" target=\"_parent\"><img src=\"https://colab.research.google.com/assets/colab-badge.svg\" alt=\"Open In Colab\"/></a>"
      ]
    },
    {
      "cell_type": "code",
      "metadata": {
        "id": "5yw20YIhFEpM"
      },
      "source": [
        "import itertools\r\n",
        "import numpy as np\r\n",
        "import matplotlib.pyplot as plt\r\n",
        "from matplotlib.ticker import NullFormatter\r\n",
        "import pandas as pd\r\n",
        "import numpy as np\r\n",
        "import matplotlib.ticker as ticker\r\n",
        "from sklearn import preprocessing\r\n",
        "%matplotlib inline"
      ],
      "execution_count": 1,
      "outputs": []
    },
    {
      "cell_type": "markdown",
      "metadata": {
        "id": "zwNZ31M5X-RD"
      },
      "source": [
        "# About dataset"
      ]
    },
    {
      "cell_type": "markdown",
      "metadata": {
        "id": "pI7h7tQeWiLn"
      },
      "source": [
        "\r\n",
        "About dataset\r\n",
        "This dataset is about past loans. The Loan_train.csv data set includes details of 346 customers whose loan are already paid off or defaulted. It includes following fields:![Untitled.png](data:image/png;base64,iVBORw0KGgoAAAANSUhEUgAAAv0AAAIvCAIAAABoUvNnAAAAAXNSR0IArs4c6QAAAARnQU1BAACxjwv8YQUAAAAJcEhZcwAADsMAAA7DAcdvqGQAAD42SURBVHhe7dzRYSQ7bqjhk5Odw/pNcfjBcXQoCkXPG8WEsSZIkABYpJqtUVW3xP978LBYIMCiWl3YuWfuP/8BAADYA30PAADYBX0PAADYBX0PAADYBX0PAADYBX0PAADYBX0PAADYBX0PAADYBX0PAADYBX0PAADYBX0PAADYBX0PAADYBX0PAADYBX0PAADYBX0PAADYBX0PAADYxaV9zz8AAOBl6Ot5J1f3PTrCHKcEALgAfc/peKOv4JQAABeg7zkdb/QVnBIA4AL0Pafjjb6CUwIAXIC+53S80VdwSgCAC9D3nI43+gpOCQBwAfqe0/FGX8EpAQAuQN9zOt7oKzglAMAF6HtOxxt9BacEALgAfc/p+iP+8/6Wpjq3j3Tn49aGE2Xt2/sfvTblzmdrX1vavI6KwSmNHvtbzU+3kwJr1PIaAMArSN/ZOtrJi/Y9983fsuXOr+57xAs8IJ0OAPxg6RtcRzt5gb5n9N6Mf99TrrL2tu/Wtubg7f0jD39b3+NOqT5rfcT27MOozJ/GKFzP+1YO+vbha9bxe/0p+GklU35Nd9/Ka6H3dvPn/pwA4IdL38E62snr9z2u6ck0PKztY5Kf+z5Nm9dRMTglN+Xbi6w8+OFEwrE5ZT6Epwy+5mFJ0kKURH6+Ruv/qp8UAPxo6RtYRzt5gb4nCK9HeSPmkc7qgvyidG9ZTaNBevVz36Zp8zoq3JM27XzcidTpHBmOzZR14aQs3B2ar6kHGhYdfgbxKpQJS0KhGAYAuFT6BtbRTl697xmElJjDW7Z7Z7fLHydtXkeFe9KmPbL2EUF+9HCjHsYoVdYdYQjszzPH9j+DxK76bG5JvGXzAICrpW9gHe3kBfqe0XuvvR5LSEdem25t95otd9xb94dJm9dRMTglmyrPHlmoP73u0KLuCENgv8ialXjHrsrI/QRsSSxk8wCAq6VvYB3t5NX7numr0a0twxpUlvq37g+TNq+j4nhK5RHds9952O40W3w/b2l8zXi8epVD487cldtgu1GWxEL5qoYBAC6VvoF1tJOX73t06JT4sPYQ49/hP03avI4KbRt6+oDHu3JjsKbEH26UE4ztSDzdUf1DsjTx+Zrwk6qF8pXeAQBcK30D62gnr9/3tKuiznVr7UWr/0a6xv08afM6Ko49RHdkPsDuhGV+gb8RT9jOrMSUVXXc/Tv2rP1k0lK/JhmVGf5g/d4AAJdJ38A62slT+x6MvNopdf0MAOB3oO85HX3PCvoeAMAF6HtOR9+zgr4HAHAB+p7T0fes4JQAABeg7zkdb/QVnBIA4AL0Pafjjb6CUwIAXIC+53S80VdwSgCAC9D3nI43+gpOCQBwAfqe0/FGX8EpAQAuQN9zunTEAADgRejreSdX9z06whynBAC4AH3P6Xijr+CUAAAXoO85HW/0FZwSAOAC9D2n442+glMCAFyAvud0vNFXcEoAgAvQ95yON/oKTgkAcAH6ntPxRl/BKQEALkDfczre6Cs4JQDABeh7TscbfQWnBAC4AH3P6Q5H/HH75+39j14808JG/ry//XP70IszxVOSsmFraav/hI1oxCHwDvfIkvKSRzu11KMHsGyy58fqSXSWMuUfYfJNu73gwb/0Y5N91UUn/twBfFn6HtLRTuh7soWN+G/xU3Wn1NVNl4mf0VfKo28/98gXvpQuLHW2hw7c/xQXPmyvwX5YX/qxdZ9cAC+Hvud0D/Q98kVb+AD5Jm3cW/vt/b3F3/2mtdTuS73QtS5C56ywVJX7rYx//bn9TZ5rQVqso6KvljKnqTZTb+d93G5+n417oLLOJuQ6p7iFKTV6oLwFPW8XWrhKg7u228xlH9e0qjJ5e293RqcrITp/eN4oJ/toQfdqhz23VfmsR/tw1Y/b+df//Y+OBltz1du9Rx58IVa47dgWRrXtwW0UIn2FLqtF5aBJglZqcesAvlX6bdPRTl6y75EvyTpv4/x1Gb47y3z+wtXwEDMiATW1G7uN+OIld8kn0ZpZZsM3don30yHkMZ+dUiomQ7eXNpRBqynl/QPVrdhmfVaJqBc5TQl3wT5Ljmjznq9akta6TZdG79vYz/pKeVhvhDqNhMhs/dPPRSWZzueLT2vbnl3hkMPxe+vCa+o0fVwXqrtxqaPzPrmRkDy7EGvBfpwXHmtLim7kl7v706yaNCaos26ch3V+snUA3y392uloJy/Y97TvTWXfrp5Fhfv94t7k/nAjwpLLSve9PKg43ujDjh9E210a5Qq2mXYvPlnbi9t21q4tqQWLlscFZPU6FpoLWas22d0dJ7XZeH+Yuobc318XMczmgiZ7HtXp59oKuVGXpsnj/rpNtEQxYxdVPBK7MtnS2HwdpT+tQKLXXQIleeqsS+AjH9k6gG9H33O6tb6n/9LzX5+J3FZlbYiP358jbb0PO2xE8lQludvGrKItcvt9WFquo6qVToU1c5rKRW3jbh9J26IMevVGDW/BouaxhzF5QSx05Be2rFUtdUjitpO4XZfZGB82XFlIWx0qGIl0y7u9HGrXav2e03xfoN9Yq+RLDtYdcregeKPPn7WQ+7GHMmJa2zLoSCJ7KXKYteR1z1wTDEvFG1YYwJnSr7COdvKT+h65Ub5odbaMQvzhi3VC4rKy0m2k3mk3dNS2cbei7nNpHwNppY6aVEOSpcS+bJpym4r7aFsMe/XSjRoeYmqemM+Z3sh3RMk1rFwnD0nqdiQgKfcsKsYPU/cp627GkW6yLZzUnu25btnpN9Yq+ZKDdYfcLSje6PNnLeR+7KGMmNa2DDoaLp9kLdPumYcJaql4wwoDOFP6wtPRTl6w7+m/G+uXYAy2qPAlefhi/VRbarklgfvKteTuxkrFxzbijT6IKVv+b4ldxrSJ/B+C1o3Egm2L033YI0+eJ8w604xywy0Yrm+T3d2aNE273FYqFh2mHu9rFNpF1pBZ7ZYi5hrV6+faCrlRl8Y6Kua2RDFjF1U8Ersy2dLYfB0Nl8+mJU+dnSR4ZOsAvh19z+nW+p7ytVfnbey/DGU8mu++P4/CfVuZRjrrA2SclBC50DJ5Xsd5J8eNhDqPSfl05MgGE58xV24Fu4puLzJsNyxKMuqsC/YR/jFd0PTR/I281q2urJTPbmO/FRnXrceiYcNVDQmh08hQu4TPatu8S11ytDqNBNdZN5Zwl/u4riR0ezqWTGwrTgtZiI0xNcTV82PL0EY+spseZq2hwwRuHBK4wgDOlL7FdLSTp/c9nfrdZ3fs2zBOykW+F74k4/fnSP6yVRZZUudrF3D76L6a85yN82VaWvPYBt2WHpXW6shrj2vilGwpPk84lCqGlOtDcAsqMUWNiIUCVygcnZnty+KsZCoiF7lWLBqyVBbi8g53miPtn/zfqx2qtZD8l22j7DGLzknJmiPdH67z+2717KlE2ErVQhZihe2v26AKz1oufC633OcfZNWcEuQTjEotbh3At0q/hTrayXP7HgxwSmeLL1kA2BR9z+l4o6/glM5G3wMACX3P6a47Yv938d5PeNulbeoI56DvAYBkz9fNL+17fjJOCQBwAfqe0/FGX8EpAQAuQN9zOt7oKzglAMAF6HtOxxt9BacEALgAfc/peKOv4JQAABeg7zkdb/QVnBIA4AL0PadLRwwAAF6Evp53cnXfoyPMcUoAgAvQ95yON/oKTgkAcAH6ntPxRl/BKQEALkDfczre6Cs4JQDABeh7TscbfQWnBAC4AH3P6Xijr+CUAAAXoO85HW/0FZwSAOAC9D2n442+glMCAFyAvud0vNFXcEoAgAvQ95zucMQftzQV3T70XvDn/e2ft/c/erXoS4uEbGu8jyukQ9CROp7Sl57qy8cx8aVT+urRDjf/3U/0SuTZHjiodK6jk/BZnvupBvCC0utERzt5et8Tv63le/r5X87PfUPcPaXXOKRrDVuc4eQv4TuWBfQ9AB5H33O6+32PTaU/b+/ygs9/u9HecPmLXOfLLV2X7yidbYv061+++DP37d/mxGu8IdJGdKTqkTTlcWzcWJh7Lh9ZA9yqmDqbHFeafnt/L7Nprp1S3p/OJzU8Oe6iLSqrPuo+3C6GT+Q334RJt8ztwG+h3ZDQ8YfIG+7juOtWwKWxojYpc21jbuc5Y3d6VtolrSx5ksNtxj95nyVv4DYKdU86qAfg10q/9DraySv3Pe67ub0nyle0zkuMrs9f6hpdx22RrtLQfJFj3fpQ0Ce73t1TSg9weJR6kW/IqK6wsY38842eNWeqGfJFjsijmtetlMEx2tVzYyuXV9XScpHvu/WhoE/W2KRf5sYtbb0o8zniUDrwCctFiclJNDyP/cWxqBtbQCIZfRYdu6oybOHGJy9LW9E27fgsnxQKGQdVAfxO6UtBRzt5sb5HvnfLTPwGbl/O4Vu6BcXZyma7++Nvd5sd37/K6JQORtubHFJVZ8d3vclxTabjcbWg8SHabLw/3pTNDu/Pao2TWVS8P95oYAtCcH8hIX3tFhOCXdRkXkZtesbWavWezzIu1C+cJALwG6WXiY528vS+pzf8lravaXsxiBoUgyuL9V//SUwiV1UJGqe7StqGjlTaTnwVyf78jFwrnW4zLqw+9f2nmxxXPDbLExJOgiuLTSN/P+5KrlQJGqab1oq55XaVS8T4WDk67CMEhzJ60WeTWvk63HA7mMy3dSNysypBYSvGZxkW8pmqUSIAv1H6hdfRTp7e98y+ZMO3dPuatkFWg2JwZbEycvfrDflTlFuWZJzuKgun1J5MdprYU4bA+nzlYert+08nkS6iLuzytzwh4SS4stg08vfrDfkzKbcsyTDdtFbNLTdEq1hGMb5NB5N9hOBaxl/02WRpvg433A4m821dJNOi3LK1Wr3nswwLWUEA+0lfJjraye/oe8bf3jbb3ddlMmslXMVY+2oLp1R3Hu+MT6E9Tb09CXO6iD6BaqfUBqIFhdnGZuP9uizNuhJWsatdzGrVefnTTbeomKxbXMz2EYJDkF7E3G5BWOmiJvMyOuyqn7W1Wr3n48eFwiyAvdD3nO60vieG1xiLlVG7P8xVIgbJrnf/lNr+/EZlrH8/4R/MYmzWLwuxqhyGRlhAFzrcxSy8xlisjNr9Ya4cMa5dxFp1nY39ojw7mI8lm9k+QnC6CGkspE67sd+iTNd5GbeMtjMZHXYVdp4T1rWteuSzfFLI5kMQgF8ufYXoaCe/pe/R729V5uJ3+9vtVgNaXrfm9pEv8q3nfvmnzehIyXaieAJFmpMLe+CqBttxxPvHJ82Rx+PyCZJ2SuG4QpDbuc5ZbB61f1ZteW1NmpOLfKurXYRJuVD2RGEyX8i9mMy2FIz3EYLTRUjTLsLaMpXYZvL/JwF6K2R0O9PofmeWJN3KFyWilPTlMpdlVshv91gPwC+Wfud1tJPn9j1XCd/yr+75H8RLjiu8hgEAl6PvOR19zwr6HgDABeh7Tkffs4K+BwBwAfqe0+15xI/ilAAAF6DvOR1v9BWcEgDgAvQ9p+ONvoJTAgBcgL7ndLzRV3BKAIAL0Pecjjf6Ck4JAHAB+p7T8UZfwSkBAC5A33O6dMQAAOBF6Ot5J1f3PTrCHKcEALgAfc/peKOv4JQAABeg7zkdb/QVnBIA4AL0Pafjjb6CUwIAXIC+53S80VdwSgCAC9D3nI43+gpOCQBwAfqe0/FGX8EpAQAuQN9zOt7oKzglAMAF6HtOxxt9BacEALgAfc/p4hH/eX9LE0e3Dw3YVDoCHQUft3I82dv7H50+kLjPjvDe/am0sJaVH90nW1giOV7sRz05ms9P7Mvn+XVPKDky/BQ8+tHQj4E8UudOlm88hJTqfqbJgz36vIuGT3fxz/2qcqmOnuDsMC9+8BnZXnb7kB2JL/7o/+qB7i5+KHt6CB3t5Il9j9HvPmSDU8q/Ze5XLP8CnvBt+6m0ie8s+YI/9C99G31p0d95QsmR4VtqODmVogfB+eN97wG/9RBSsnu5HnuwvzV8uot/7leVS3X0YGdnfPGDT8judBe25a/5qwe6u/ih7PQ9p1vue+QHp+p8inl7fy/zud1+e/+Qr0chH8G2xD6Pgyw/QdqujtTwY2xfEfFkfLTEFLf3Fm7306gtTKyErUtsVSFhVjzcalNyP5fs5huroPdcSYtOmWuWt/d/S872v7NkG7ambX2YRsm9sMNYKKWQ5Lfb4UDytBsrnZos6syez+hCCfz06JJY0od89vzxQeJFWqfxbk/+UUbT/gzzfbnQSX8vCcVMmj7O5mcYBIt8L8vPX6Pc7upkrGjbsQx+f3l6UlPlFLdbq6/BNXOoFy5ShFZy2/S1RtMuQ9mxXOhkLalCsaOyXNVlac34V9+FhxNu5P7dX0NftE3mlYdPdstUU7kzbg+5/uD5wcKLQbkdhdpxz3WBi9YA2+c///XfOjiUd8tcab/WZZt8aUxy2LT9XPyO/dP455qkM+mGjnbygn1P/1MrP67882s/ufxJ0qs89heHz4Qfv77+lPx5eGk+P1Q8GQuXgU7nEL2wdDIKEe3gWj2fu9bTactWZ21c6mkSH+JIjEZYukTC3cq4Fb0qY3dhm6nhfqy6iiE2D3M93UiOKAEtlVVy48miwG+mjuXPmqwkaTVacIgxOfoY47eXp2vJJk3WgJyjXqSVeegXuWyT6TaU+y5VHru4UNeRkMMWQ7FI4ustidILX73Mt+map1Xyk34824yTq9dCthUZ5cmUru4ib6JepIB6vxVoi+5OW6FusqaXyTY+CMvzRYmVTHWZi/HhOaStbXKID/cXJaPP4sZ+Zc5et21PMAuRocxajTLZxo1EHjP4HZWLsrLmrdNl7KP7sQ6ntWs2G8uqGtvGcrvO9iVa4pjDla5PGKJdeBtN0gUpmY528nJ9jx+Lej37GQ8ucliM/0m6U5o+yPhk2mnUgyhktlzaadkomZRx0y5hne0X1YxxPtRpJKbtwyex67Aw5Dxc5LBxIRNKyv9ssos6sPVWok6P008WOcPJTssSgxdKthVpNlTpr0WbS4vkf1jbRRpIIl9MryfTtXD+H9fH3dhgvJNkNO1W9bpbaXXYlrJpG8nKfu7gk1vZpLxNp5kySFN/fbYlvfzfQc0cpvOt6gJb1jKJNu3SihBUhZjDhYR3yybZXZQ9wiykjVyArfJc2iTmq2ISDZfJrlhh0RYyLt4tLIaTcdYq9Gn12m1YtMVx3nLW0SRdRN9zupW+R35mPbk3+xmXi3BHL1qm48/6paUd6yjrPvSmnloXoEfjzzSxIDs6GyV9mXZ67fzSTA2owSFDUovGZH1UUWPzoFcWzzfYFscLS3WsJ+ojpD9vHynYLurtmDVswyaCySInRHRsxxoTM4yXpllfpAT5TNVhKxIk+dKf6V5aaBclTy/dn0z7vbstymQpW2u1/J1237HVR+Ux9eKwXC4rnU4LSi59TmFhj5QWg3oSbstqQPozTWjNcvH42bYbfksyWbZQa7X8n3NlSrRlSiRZ22SbdUW8FlwvQpp0EQJEypqv4w1XqwbMQ2zUKqZBqKIsV+aqJHKlalCLTwOrEDK3kFbbzQUSULSah2yF7OQYY+uN3AjRbh8xuUXpaJYuSpM62slL9j3uZ9zMfsblItwJP9v2wx8lfUn9Kc1OpD5pPJka7s80sSBLFxLHgKRcuOS1npsNGZJa1K1K+qiixnbB3mSDehHuhPz6BIOs5RnSArlV/kj/ty6e1NNpmwjmm6xCRCOhotxpMTHDeGma9UVK0GR7HYlKCdMSSVv++LiVdeNis2l9gpLMAtw2tFb6Y7ivQV63+KiL1+y6jeNBlrFkS390dXKU8MU0eqbVK+pW3ZY1QsuVP756tnIjrXTZdVKjtVb6w26PyJL2nJYt1G3T3W60RmQ59CKkKVtyW05S1nwdb7haNWAe4oKtSihSWa6sLpQ/B8dQImSc/nAFQuqWUkuHuREtliMO2QoJ0VSu4iQ4Rrt9xHiL0tEsXZQ2qqOdvFzfM/thzX7G5SLcGSwP8S/ucErDzdt5dCdWo+NByGy5tGwhb8sS17nk7kad7Uq3jHE+1GkkZrAPL9wIOW1xf9HEPVQppfy3leWGXrS1k3p1OtxuJouc6aRL1rLE4IWSbcU4tpei83/RWovJhdaLpZvJtLshg1raR8vYTruX74b9+rVH3d36uF2acArpwh72ICb8vPin5et0Gn/X2bbHkEGN8M8mK+dnW+UDaAFWzWey6W43IagKMXkTPo1cdMsm2V2UbXIW4lPmMtMHj8VrPqsgDlXiZySmcNG5crkRE4640j6bCrNWYRzcbdii4rwtrqNJuoi+53QrfU/5abWfZvvRzn7G5SLcOcYvfQBexeCUZP/uGfPDtet4MvasMtD5HK8XdhbhVFoWPyvjliRd1DJWUiLqrI3jlnxGIzE6m7fXIiw8LAw53WJ34eNDuMmlalS5aHlm9dp0yFln55s0g435SBnXjcQMIXkjszUory0hbpiMl+riutpn0st2ZTuZTLutWmk3qdN22Ulp4y2pM9py5e7LsFz4gqWey2Fhha8Qdnq/eMmtERJc1oYspZxe5gsrYEsSW/XJ9KGWm6z7aUvH/AoZTzNpHjdfwltQFZ5XLkKafJF3ptNuHFZ2lXR+FuKCNaULC/Ku6722zK/PEX55mWjpp/vPYx2mNccN+Cr2JDZKaogP9RG+nI9y8TL0035lHz1L56VVOtrJC/Y99WdY1I+MzLWPT/wRpotwJ3wSCrv/+tJ2dRTIIzf+eeLJ+KOxE5D/gaSzdt9FhixWKU3IRZiXi1AyhJepuKVQx+jubC9Viw0LQ065CHf0YpgmyFXrrZBzWs9PuwK6cL5JL5dVGu2m9L/OkRsxQ0jepNn8P1ELX89tb7CukJi2pi/g9+kSD6fDVusDxP3Hq47c7GtPg4tcpWxCnr+sbpMykS8s6+EAZydkm5lsIwfIr1FcG6O/7WzD2po1JjxW9sUqmS9SbE0Uo0Oitht/ws4hOKSpFy3LrEzYQdljujcLCdvtEkU5sv0D8ZirSHNy4RLE7Nlo//4B05LRDqxKyOimdVUoeXzqyuVoO4o/lxZd/oFBmfbZJ+lMmtfRTl6i74F3yim531ngKuljN3o/VOlL+bPb3yBVWPrYh43+eb+du6tv0Z/tx22TX/DPPlT+lb9q9TPyO9H3nI6+Z8U3nVL4BvjK1wHwl+60PQsBf2n1lRbi6n+L/Nq6o0uXm/yCf/qZ+cIX3epn5Jei7zkdfc+Kbzsl+Q6odv7NxjPkT9/9BiK9xc75cErixc/9j3vzLZ7t73P3wSVg/Wf5wGfk10oHoKOd0Pe8HE4JAHAB+p7T8UZfwSkBAC5A33M63ugrOCUAwAXoe07HG30FpwQAuAB9z+l4o6/glAAAF6DvOR1v9BWcEgDgAvQ9p0tHDAAAXoS+nndydd+jI8xxSgCAC9D3nI43+gpOCQBwAfqe0/FGX8EpAQAuQN9zOt7oKzglAMAF6HtOxxt9BacEALgAfc/peKOv4JQAABeg7zkdb/QVnBIA4AL0Pafjjb6CUwIAXIC+53S80VdwSgCAC9D3nO5wxB+3NNV7e/8Tbr69//v9rQxvH/nOoj9pWV0hyR5bvep+5hRRn2lFek4dCXmIsDofiy+oEYfAv/Y95/f9+/oq/zyPuvsUX37MR3f17Z/kyc4f/NQ6X99h/mwn3/IrD+Cu9Dumo508ve+Zfrfava9+mV3zJXj/W/6zpxzoTql7inSZ+BndgMR98UU14Svff8qZ79/XV3Un+SIe3dXXfxITkx/Qg59a58s7tJJf/VG95o8YeFn0Padb7nvk66v6l/7Z/iJIvlaV/4rrpi1FXqbfxfpH5b4mXcmFr3uLvt18SrcJnbWZ1ULpho6KsOe0Oq1KU6GkXEjet9stPHXltlXXSfjtve3lsBXbZr6Vq8ijFq16Mkju5X3V7BbrC1qtpN5IoW/v78OKTktYYlvUoVD3PB23A5+iHlD5+4fjU7ii7TFlMDlY21TSVhWHbYaVNh0/b84xeZmcHKI9g3xmfC1hyVwmFWJH0zKny8q+B9s9PKeb+KZf+UMJAL3066Gjnbxm3yPsnnyB+a/fOpZ5F1IztfFonV9vAX55DBmR6BohwfVCxiGLzR/2JiaFPjultF6GbePdM4Rt1TW+jNWfhhtXJUfUkLzUrTwm92y231QZ+2zlwqJreIgxfjqH68W4UA4/Jolp3DhnrPEyf9yvK9oC8n0foNX9pnxuiddoK5JIiEX4hO3CzJLnod5waVx42W5ba1JMyFgv3PiTaanj9x1MnlOGOi0RdaUL8Ct9kja2dX6VHwNw0m+/jnby9L7noH6Xjb4EbVTU6/EXm49uES603bdSRX8dyTJ3e1zbz1u6pULpDHRUhQQ5pz1auxe3lab7yKJeT8I9vzQEtLWz5F4NbovUsKSLGlf0YjW5ypfTQjG+6TbSlq88slxZ8hZg5cdP6ectYZrz+67XMeE0o2MhIbgliim6/JVWT/oAXT6ZrgP5v4O0iWUu2rXdkNxlhzYq6nUpopONRY/vAwiOr5sdPL3vGX81JqMvQfky66U7EjDI478y7WuwjdptGfSm2/KpMl9F+GytYkm3VihN6qhqJVImLZWm8sqWOwdZsrZJGfTkxiTca2WTENDWzpJ7Nbgv4bMnLlXZ1riilyL8XF0wLdRVVIfUNe14A5OiFhDzjTZTlXmZaRl6kqhL0eKPjsmHz1D/rLpHUjY7eoZ0PZku8dkga+J3WZVIK9lyWTIn3emfQdk6V8ZvEoCXfkF0tJOf1/cMvsXufwn6lTq0u5PlM90mYh77nrWwNCrp1woNPohpoaxLiVrhMmXFu+SterfbZhLuueQxoK2dJfdqcB/bssuNpGzGtjWu6KUIP1cXTAu1QXBIXdOONzApagExnyWReVGu4nzM0An7cPHeLHlYWwv0hVLQoK7NdhuoO5hMl/i0tC9TzeZ9yZbrUEVNkti6StaLcUVgc+l3Q0c7+Vl9z+wrc/zl6L8EfUQey395Orp5X7eJtrj7zrWkaaTxS4VGH8SUO//3qbFueIi4rbCr0ZFNwj3/QCGgrZ0l92pMH1szpj/dtEWNK3oyaZuWq3w5K9TFN6GQWz7eQEwiV5a8BVj5WXFLbje6jVQx4TBqmjwEt0QxRZe/SkE62wfo8sl0NxhnduWddMOVLCGT3U2S2LpglgTYHX3P6f667ylfd22JfZ2FL7b6ldiva1+IcpFYaYmMt9vFiAsoqfKF30NOWINSTJi/Uyit05EjOZK248SVFr58SC3DdqNFTcONhNTJEODWjpN7Nuljbewzy3g0P86cZ2tMWVouLHkYS3jL6Pg0bjzZwKRoC7BI0ZL46ZyiJpELTZfndezru524is40uVvpo1x8CbcNN2lpm5U09cKNP5l2221ZmlyzbcvC00iDJaIGhBzDZ7Acts6ydqEATPrt19FOnt73DJSvqPGXYLmq/JeZy1WnNVTW+q9BjY3fhH4rFjjTNhH++bTb2u0jX5QbJbfWu1sozevIk2Vxx92U1LMrudeyu321kE/CG10nNw752tpRci8ES5rChYZJucj35hW9trb767BhIfc8HfcQ7e58A6OiLSBu1SUJNfJFuaHz5cL27Yq7teHz5kySLzxD/ktD27ApEfWObSzEjqZDUbkYZLd1MVZDZav2kO7hQi6XpE5rqKwdlgDgpd8OHe3kuX0PBjilr7G35oWeUhQAvgV9z+l4o6/glBaFv78IFyd6SlEAOAN9z+l+0hHrX5gfnf5X5qmGjnCH/yFd1n88pSgAfL/0LaajndD3vBxOCQBwAfqe0/FGX8EpAQAuQN9zOt7oKzglAMAF6HtOxxt9BacEALgAfc/peKOv4JQAABeg7zkdb/QVnBIA4AL0PadLRwwAAF6Evp53cnXfoyPMcUoAgAvQ95yON/oKTgkAcAH6ntPxRl/BKQEALkDfczre6Cs4JQDABeh7TscbfQWnBAC4AH3P6Xijr+CUAAAXoO85HW/0FZwSAOAC9D2n442+glMCAFyAvud0vNFXcEoAgAvQ95zucMQftzQVvL3/0Xtn+PP+dq9C2tK5e7grnYKOjGzc3D50Oh+gXX0fd1B2IGcVWyNbqtWfu5PHyF5FOsT2U/za3hc+vVN31/5N8r+1UPvE7T3zyb/uy7v+8u/O95/T/Yz25YOTpK8jHe3k6X1P/FjLL+WJH/SFX93n/6YdTqnbtVxeuEd3IKnya/Q9P0g8vr96gu5z8JC7a/8m+d9aqH3i9p755E8gX7H0Pajoe053v+/xvwvxtyL8usqFWvgVbtFvt5tLKfmbMmt5Ne1jhb5HqqWj4vjtYDPtVNLg7f29375wj+my3HmwWiEcyMetJbh/Lq5si5hvcmU/Rd6CROewnPGj3gw7dg87PgIj928fbaXbgNtWnW+1s3pQdaxKgJv453//VwfHPbgirvRx07mWfITDbHYMzuww7JOfs7SY9jTHaeW2NDOu7mZn8zqba48frArbs92FULdp23aanH3m1CfVhxkXDsc9ol8128jxRDqDinYgMrq9txQuQ1tWCpelMumTqHFhn+PuR6heKP+E3ihj2ErdjOWqqRay40HpLHW0k5fre8qvsXyoZ79dNupjRiRaI8qvVrnIY5+lBrktPVbo24xOafZ73raYY/xzarx/hhBcJ8cP5mZTcHffL5kvrxXceGWT44SJ3KhB4UlqeB77ixIdEvpKJu/luDEJDittuuawTdmyOE7RNYcFOzLpA3Tsi9RxTuvy+h2HfZaQLqJehGgLn9SO0SPj6rmiTzJKXsf5fp2VyWNFq+Lvu3FYJheaLw/1RthUM6s+zmgbiWPjq7jxbCMhiQTpfOMDbBxHbZVtOk+7Wb+PPPJ5h4V9Nq3S1xa21CeJMc04Yx76lTUmhbckC9nxuPQz0NFOXq/vaZPxs10/9TJbP/2iv+74X5b5r4ubb1t6sND3GXwQpXbjH6A9XnjO9jjuuczKg7mF7UCaYVYvHrrFzzd5bz+Jnx4/dn9Ra4a99teibaUIeRqbtZHtqVtjGV294YN1tYvhZDfbKroKmV7HHdnaSZY2LQO/y/66M6keheSf3M7ixlUN6RMMg/10CBiWX6ie1PlhCq9L0OInG0nTIV1/Patos/G+36dtQ670sgbcL9xCi8cqHq/FLGPgpm1TK9nxBemNoqOd/Li+R/7szT///W9WX9Bl0/kW8Vihb5Tq6Oiobcp2WzbVBqI9dZitVh7MnVsK15FpKQ53RH/oLUXYTthk77DpEl+nW6KQsZbxF7KqF/YmfOok7t9n0KBWKA3KVFyS+JB6oytTpYjCEsjUMTIWqTF+f1WK6nfU9jHOYtNtO85g12pSXe/6ZC356oMFNaS/KfPu2m+nTIcFsZD6vPo4Y3bIJA4lUni+Hm/Ep68OeUcVrU6sWMvUssqq62ihcEzsUk4rHrQHLqYZC5dBpy1gITu+Ip2jjnbyen2P/G7kD/T8t2v98z7/RdPfo3LlwlrEY4W+0cIHse3tOBDtcYbPsPJgowM5kKCsy9YfekvxwCYTmVcSJ/E1rC0Ja9OFldWLw15GfOqkrpE/RbnlS2ny9IfOHMq0vbTBoUxUi+UIX8vEIjXmULrop9s+xllselx7ZlK9pEm6muPkky15NaS/KfNt/6LctLCwIBZSs+qzjEW9GyaTQ4m0MF+PN3IIn4sVbWFMUcvUssqq62ihcB/SUk4raompaUZZmxzSt4CV7PiKdOw62snL9T32oR//dvW/OnfEXxdbHCuPftMeLPR9ulMa7aPNtccLz9luD59h5cFcTDypo1C56KaOuw2zK/tJJKwubolCxnRheepFiJjodqBLfMHkWOq9tT2HMpYxR5bUXcIRV9ptSMXZVrErXcVpWzvJ0qbHtafm1V2SO8knW/JqSJ+gBsu8W2Q5QrZh+Un1aUZvMNtNteyTjYzzztV4yzDef9y+XOllDVgoHENWKtrs2CRjmnYrXSK7sZIdX0Dfc7r7fY/8XrQZdyGf+vobE2Lu/jq4gJKkXEiS+gso45YyXdR8jxX6NqNT8t8WfvNtZFOJ26ufb9My+fmDxQzd7bAiFK4kos668WebbAlDdkfm6+KWKGRMF7awXfi9dAuqHFKnW32/kRLhVkqekMmX8WO3KZl2Kwpfxe3O77OGhFAX4cu5eReeI+qFBIT5PtoFhPmxnONQ3XZXxqF6vVFzxxo+orEQuV2DbexT5B3VHCFbLKQm1ScZQ/R0q3XWjWcb8eHDjOOKNhvux4CaSibrxTBgWDikztH1QoLDvKVuO3FrnXFGX1zGvlDLsZAdj0uHraOdPL3v6cRfvXa//GPlerP8xhQLH/6WJf9rz7rAaqcZ9ztV5svFg4W+R6qlI+M34rcim82n0gYifCn4pSGiGj2Yz+APRN1bnriQVnVtk5OENUYSjB87XdhafyFRVYt28lbsXzKHLarbR76w1aFyEcJ1zu9D7g/Ku2X+2f10WSUz4QEt2+QJ23T45Nu0+7UKyYdbCgWDYXWbTBnkoiZ66MGqEBJSl6mQ1v+wQrZYSE2rTzK66WOyIqzUuU82Ys/jQpxRRctwzFVztLz57yY1ZhiQjAonLeT+RygZ7bQ3zGg7SRNyEeb1YiU7HpTOUkc7eW7fgwFO6WrxzbEmfSFP3hS/18dtu0f+LdLHlU4BA/Q9p+ONvoJTutoX+p4N2550SrQ9P0b4TH+lscce6HtOd9oRy+/10E/8ok7b1hGu8dhroXzYaAHw2vyXIk0PJtKnQ0c7+R19z6/CKQEALkDfczre6Cs4JQDABeh7TscbfQWnBAC4AH3P6Xijr+CUAAAXoO85HW/0FZwSAOAC9D2n442+glMCAFyAvud06YgBAMCL0NfzTq7ue3SEOU4JAHAB+p7T8UZfwSkBAC5A33M63ugrOCUAwAXoe07HG30FpwQAuAB9z+l4o6/glAAAF6DvOR1v9BWcEgDgAvQ9p+ONvoJTAgBcgL7ndLzRV3BKAIAL0Pecjjf6Ck4JAHAB+p7TzY74z/tbunX70MvNPfuUPm6pTPL2/kdnvo2kzg8gz/J9+SUbnx4AeFD6ptfRTl6h70lvw7fb7TtfhD/ak09J6pxVovU934u+BwC+gL7ndOMjLi/a498AlL/fELf3cFPenuo3vu3SY+nIO+OULESXWbLjIn+vlZHJ20fLU9dMpnPBfCEBPoca7t7Wp8m39/d2p0zbclsNALgvfXHqaCfP73vyyyy9sPyrMJEXn16WN5tetFdn0i35JS46Jbe0Hx+jc3KfUGNCUQuaTNu2ZK7c9jutY7+dfOGWD7Lmcc0BAFiUvlJ1tJNn9z32Ajy8Atubz70I+zfcb3zjXXJKPqOwrDHnkC3u0tQsk2kb1IB+GyNhazpK3FIZtnkAwBr6ntMdjzi+sey91r3J2jtOInq/7Y2XHklH1QmnFFqIxFKlO9NOxCUuMZMdfLaxPF9n+m14ElO1rVl0S1qGsywAgIn07aqjnTy373Hv0Sa/y7o3WXvHffae/C3SGehInXFKfYilSne0nfB0D+VOKzTbwWTaqtaZ8U7lrmgbOoySlrQMj1kAAJ9K37M62slT+57jW09m6htSX2qiTbuX3a91ySn1IVYk5lRx0hZ3aWqWybQNakC/jUwm3QO3RW6UuKXdAgDACvqe03VHHF5jqr3N5KZ7rbULNx/efb/HRafkQ7rxOLhuQsY1vBTVO1ZnMm1pbM5n1lm3QDNphI/1aWXY5gEAa9K3q4528ry+J7/Rjm8rm9ZXXpL/hXZ44VX19fibpMfSUXLqKZUORriINDmKD7FykYOkSv7/Vaio1SfT1rjkAK3id6qRbur2kS/yjbZcDFK0ewCA+9L3po528ry+5xHyXtvmpfaTTsk3H85kGgDwQuh7TvfAEYf/aR8ufr2fdEr0PQDwY9H3nO6hI5bXeLVP05Ok59XRgiefEn0PAPxY6cWho528bt+zLU4JAHAB+p7T8UZfwSkBAC5A33M63ugrOCUAwAXoe07HG30FpwQAuAB9z+l4o6/glAAAF6DvOR1v9BWcEgDgAvQ9p0tHDAAAXoS+nndydd+jI8xxSgCAC9D3nI43+gpOCQBwAfqe0/FGX8EpAQAuQN9zOt7oKzglAMAF6HtOxxt9BacEALgAfc/peKOv4JQAABeg7zkdb/QVnBIA4AL0Pafjjb6CUwIAXIC+53S80VdwSgCAC9D3nO5wxB+3NNV7e/+jt5s/72+j6S+SbLePMpYd1PGLSEegI/W7T0nqZCcUaCfyvUeTjuP7kgHAs6RvXh3t5Ol9z9IL5Lw3+gva65ROLfO9J9LQ9wD4Feh7TvfgGz3dLd5ut/r+im8yiagvTbmjYkCTIy0sR00ytDdx3uF7y3LaG9pJZXSk8h5+wylZHa3tCttulKvj7uZKH/XWvel2Dm0gXNW202E1mby9tztl2lbPHhMAfob0Raajnbxs3yOvF71X3knlIrzAclB5+9jIxi5FudCI/DrrYksRnXXjvMzvoy48zy89JV/HjX0ZE5LkCw3PleodSzOZlpV51AZuZONcYFAtD49ZZVhTAMDPlb7hdLSTp/c9B+WNInfqm2j22rKoODtmGSW65q6zsZ4lDPMrZf5eOgMdKdlDr2wj7tq2Fzdao1a2bxkluuaus7GeJQzzwzL9ZFvhy8y4xXEH4w3Y9HHQPcGIVbORsKVpZNMA8FOll4mOdvL0vmf8AolvHBc4fhXZK+lIVlQlRmZqtK7s67WCIfMh6hRpnzpSdS8H/X5aYLxRnyE8S0dWVCVGZmq0rjw8fy0YMh+iRF+7ZfdlDmSV0oy1oqppJ9NtK3Uw3Ft1qBaja9JDNQD4mdK3nY528pv7HokV7WWlI5mv0Trb12sFQ+ZD1Cl+5Sn1tVt2X8aR+OTwOLWiqmkn021hHbhM3qRajK5JD9UA4GdK33s62smL9j3uJSPuvYqGrzOZtBQuo79RZ2M9Sxjmh2W+3a88pX6yrejqq3TbRbvFcQfjDdj0cRAD1ayajYQtjfEA8EPR95zugTe6f+fI0P8/dMT59ipq7zNd6t9aJVQj5KLGtnU5Qmfd2OetifXqLL/0lNyW+u21pY1PKOPwYCGNbWAw3bZiewq700hboJlGsS4qjWwaAH6q9G2no508ve8ZqO+Udjf/W+LwssrKv1yuLyx5SVU656ZuH/mi3NB5ubCXWRdepsL97j14llReR+rXnJI9iN2X6LbUCbFyUZbkSrd6LzztYLptJezJUre5cbX4JLlG2WkJt1sA8BOlLzId7eS5fQ8GOKVPuObDm0wDAOboe07HG30Fp/QJ+h4A+C70Pafjjb6CU/oEfQ8AfBf6ntPxRl/BKQEALkDfczre6Cs4JQDABeh7TscbfQWnBAC4AH3P6Xijr+CUAAAXoO85HW/0FZwSAOAC9D2n442+glMCAFyAvud06YgBAMCL0NfzTq7ue3SEOU4JAHAB+p7T8UZfwSkBAC5A33M63ugrOCUAwAXoe07HG30FpwQAuAB9z+l4o6/glAAAF6DvOR1v9BWcEgDgAvQ9p+ONvoJTAgBcgL7ndLzRV3BKAIAL0Pecjjf6Ck4JAHAB+p7TTY74z/tbutPcPnT+r0jSt/c/evWTpCPQkegOp5FT+rh912l9g1MOXJ5QnPCTtMP71mNMyX7mxw7AftK3q4528uy+J7/W/YviMPFFv6XvMfJE8fX86/ueM5uIkw6PvgfAj0Hfc7rDEY/fleHVIa8n1d5SOeC93XBvrxb9drv51KMsqXjL8jLdQ5K2o6No0vfcRucgsWr2FrajyofQFo+OKs39/YF/et5uw3rPzRzDXfqw4PbR7rQ1efMfNVvbogSWGBsN9x120tbnrP2R2Oq2GABeVvqy0tFOntr3lDeVXoz4N5IE60snv150nF9K9tbxsz58kCXH6PiVzD6Ist94WpNzcM8YH9646JJFLyZHNSkk037Whx+z5BCNiFzKMJZEgwWurG4tx4ctuDQ5oqa0tTKygJahJq7jsJ98YcsHxWS+pgCA15a+xnS0k6f2PXfeEfI6qW8c0a7tlZXIbM4SZm16mqVFvJjZB7F/kE/OITzW4JRjKrnKl32Fdv0tB94CejGPjxts/aCt7vK3+ck2bbqOYuCQ1QjBD24ZAF4Cfc/pPu975OXRyLy8Wnr5VTN857h3T1aTT7P0C15F2p+OItlvfC1Pz6HXP2Y9G1XzTI9qWqjLki9nWfr46jBfE/nRkX/OvDeZaJt0absksj0Jq3+20Wx/mcSoEmPLE7c0zU+TAMBLSd9oOtrJU/ue7k1V1bdIeLV4w3dO/9qqL6Bpln7Bq5h9EI+ntXQOI/VsVM0zPaqlQjXpLMtsY4f5msiPPFkgSpFWTqZd3Za2S1Lj27o6muxP7ibljsXY8sQtTfODJADwgtJ3m4528tS+Z/KqqbOTF9HsnRNmbXqaZXrjyWYfRNmvPZ9YOYehmEqu8uX0RL7lwNeyh7h057hC7rvwtrrL3+Yn27TpOoqBKk26pFYjBN/bMgC8Ivqe0w2OWN4Y8UUhLxT//5jQbt5957i3T05bLyZZXPhLmX0QZb/xtfzJOdh8CKp8iATUi8lRfVJIo3PCejHO4qI7ebHm92NJdFzh8+RojS9jl0aD8vPVBfYkg5HPXGctTDNphJ/vqrUUAPDS0jeajnby7L5H6MurCq8Nf69/JRWHl1V2e/fTwyxh4QtJe9RRJPttT50tnEMS1zQtJP9z7M+P6lsOPKzruQVuvyn7aEUIzheyJueXf01f72h03nz71/5h5yXGP117Hou0qTQjF/mGXxQerYS3MgDwstKXlY528gp9D4LrTym9qn/Be9o3H17oUAAAFX3P6eh7VlxwSqFFmPULPw19DwA8hL7ndPQ9Ky45JWkSqt/Q9CT0PQDwkPQC0NFO6HteDqcEALgAfc/peKOv4JQAABeg7zkdb/QVnBIA4AL0Pafjjb6CUwIAXIC+53S80VdwSgCAC9D3nI43+gpOCQBwAfqe06UjBgAAL0JfzzvhrxYAAMAu6HsAAMAu6HsAAMAu6HsAAMAu6HsAAMAu6HsAAMAu6HsAAMAu6HsAAMAu6HsAAMAu6HsAAMAu6HsAAMAu6HsAAMAu6HsAAMAu6HsAAMAu6HsAAMAu6HsAAMAu6HsAAMAu6HsAAMAu6HsAAMAu6HsAAMAu6HsAAMAu6HsAAMAu6HsAAMAu6HsAAMAu6HsAAMAu6HsAAMAu6HsAAMAu6HsAAMAu6HsAAMAu6HsAAMAu6HsAAMAu6HsAAMAu6HsAAMAu6HsAAMAu6HsAAMAu6HsAAMAu6HsAAMAu6HsAAMAu6HsAAMAu6HsAAMAu6HsAAMAu6HsAAMAu6HsAAMAu6HsAAMAu6HsAAMAu6HsAAMAu6HsAAMAu6HsAAMAu6HsAAMAu6HsAAMAu6HsAAMAu6HsAAMAu6HsAAMAu6HsAAMAu6HsAAMAu6HsAAMAu6HsAAMAu6HsAAMAu6HsAAMAu6HsAAMAu6HsAAMAu6HsAAMAu6HsAAMAu6HsAAMAu6HsAAMAu6HsAAMAu6HsAAMAu6HsAAMAu6HsAAMAu6HsAAMAu6HsAAMAu6HsAAMAu6HsAAMAu6HsAAMAu6HsAAMAu6HsAAMAu6HsAAMAu6HsAAMAu6HsAAMAu6HsAAMAu6HsAAMAu6HsAAMAu6HsAAMAu6HsAAMAu6HsAAMAu6HsAAMAu6HsAAMAu6HsAAMAu6HsAAMAu6HsAAMAu6HsAAMAu6HsAAMAu6HsAAMAu6HsAAMAu6HsAAMAu6HsAAMAu6HsAAMAu6HsAAMAu6HsAAMAu6HsAAMAu6HsAAMAu6HsAAMAu6HsAAMAu6HsAAMAu6HsAAMAu6HsAAMAu6HsAAMAu6HsAAMAu6HsAAMAu6HsAAMAu6HsAAMAu6HsAAMAu6HsAAMAu6HsAAMAu6HsAAMAu6HsAAMAu6HsAAMAu6HsAAMAu6HsAAMAu6HsAAMAu6HsAAMAu6HsAAMAu6HsAAMAu6HsAAMAu6HsAAMAu6HsAAMAu6HsAAMAu6HsAAMAu6HsAAMAu6HsAAMAu6HsAAMAu6HsAAMAu6HsAAMAu6HsAAMAu6HsAAMAu6HsAAMAu6HsAAMAu6HsAAMAu6HsAAMAu6HsAAMAu6HsAAMAu6HsAAMAu6HsAAMAu6HsAAMAu6HsAAMAu6HsAAMAu6HsAAMAu6HsAAMAu6HsAAMAu6HsAAMAu6HsAAMAu6HsAAMAu6HsAAMAu6HsAAMAu6HsAAMAu6HsAAMAu6HsAAMAu6HsAAMAu6HsAAMAu6HsAAMAu6HsAAMAu6HsAAMAu6HsAAMAu6HsAAMAu6HsAAMAu6HsAAMAu6HsAAMAu6HsAAMAu6HsAAMAu6HsAAMAu6HsAAMAu6HsAAMAu6HsAAMAu6HsAAMAu6HsAAMAu6HsAAMAu6HsAAMAu6HsAAMAu6HsAAMAu6HsAAMAu6HsAAMAu6HsAAMAu6HsAAMAu6HsAAMAu6HsAAMAu6HsAAMAu6HsAAMAu6HsAAMAu6HsAAMAu6HsAAMAu6HsAAMAu6HsAAMAu6HsAAMAu6HsAAMAu6HsAAMAu6HsAAMAu6HsAAMAu6HsAAMAu6HsAAMAu6HsAAMAu6HsAAMAu6HsAAMAu6HsAAMAu6HsAAMAu6HsAAMAu6HsAAMAu6HsAAMAu6HsAAMAu6HsAAMAu6HsAAMAu6HsAAMAu6HsAAMAu6HsAAMAu6HsAAMAu6HsAAMAu6HsAAMAu6HsAAMAu6HsAAMAu6HsAAMAu6HsAAMAu6HsAAMAu6HsAAMAu6HsAAMAu6HsAAMAu6HsAAMAu6HsAAMAu6HsAAMAu6HsAAMAu6HsAAMAu6HsAAMAu6HsAAMAu6HsAAMAu6HsAAMAu6HsAAMAu6HsAAMAu6HsAAMAu6HsAAMAu6HsAAMAu6HsAAMAu6HsAAMAu6HsAAMAu6HsAAMAu6HsAAMAu6HsAAMAu6HsAAMAu6HsAAMAu6HsAAMAu6HsAAMAu6HsAAMAu6HsAAMAu6HsAAMAu6HsAAMAu6HsAAMAu6HsAAMAu6HsAAMAu6HsAAMAu6HsAAMAu6HsAAMAu6HsAAMAu6HsAAMAu6HsAAMAu6HsAAMAu6HsAAMAu6HsAAMAu6HsAAMAu6HsAAMAu6HsAAMAu6HsAAMAu6HsAAMAu6HsAAMAu6HsAAMAu6HsAAMAu6HsAAMAu6HsAAMAu6HsAAMAu6HsAAMAu6HsAAMAu6HsAAMAu6HsAAMAu6HsAAMAu6HsAAMAe/vOf/wcKvY+YvaqQRgAAAABJRU5ErkJggg==)\r\n",
        "\r\n",
        "---\r\n",
        "\r\n",
        "\r\n",
        "\r\n",
        "\r\n",
        "Lets download the dataset"
      ]
    },
    {
      "cell_type": "markdown",
      "metadata": {
        "id": "4HSSUNsaXwJs"
      },
      "source": [
        "# Load Data From CSV Filet"
      ]
    },
    {
      "cell_type": "code",
      "metadata": {
        "id": "GYeD8LOaFJ-S"
      },
      "source": [
        "#df = pd.read_csv('loan_train.csv')\r\n",
        "#df.head()\r\n",
        "#from google.colab import drive\r\n",
        "#drive.mount(\"/content/gdrive\")\r\n",
        "#from google.colab import drive\r\n",
        "#drive.mount(\"loan_train.csv\")"
      ],
      "execution_count": 2,
      "outputs": []
    },
    {
      "cell_type": "code",
      "metadata": {
        "colab": {
          "resources": {
            "http://localhost:8080/nbextensions/google.colab/files.js": {
              "data": "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",
              "ok": true,
              "headers": [
                [
                  "content-type",
                  "application/javascript"
                ]
              ],
              "status": 200,
              "status_text": ""
            }
          },
          "base_uri": "https://localhost:8080/",
          "height": 72
        },
        "id": "L1qQ3qZWQvf9",
        "outputId": "51db035f-dfd0-4249-b050-2db7993f275d"
      },
      "source": [
        "from google.colab import files\r\n",
        "#uploaded = files.upload('loan_train.csv')\r\n",
        "import pandas as pd\r\n",
        "#pd.read_csv('/My Drive/sample data/loan_train.csv')\r\n",
        "from google.colab import files\r\n",
        "uploaded = files.upload()"
      ],
      "execution_count": 3,
      "outputs": [
        {
          "output_type": "display_data",
          "data": {
            "text/html": [
              "\n",
              "     <input type=\"file\" id=\"files-1040c08b-4336-4633-8860-00af515eb380\" name=\"files[]\" multiple disabled\n",
              "        style=\"border:none\" />\n",
              "     <output id=\"result-1040c08b-4336-4633-8860-00af515eb380\">\n",
              "      Upload widget is only available when the cell has been executed in the\n",
              "      current browser session. Please rerun this cell to enable.\n",
              "      </output>\n",
              "      <script src=\"/nbextensions/google.colab/files.js\"></script> "
            ],
            "text/plain": [
              "<IPython.core.display.HTML object>"
            ]
          },
          "metadata": {
            "tags": []
          }
        },
        {
          "output_type": "stream",
          "text": [
            "Saving loan_train.csv to loan_train (6).csv\n"
          ],
          "name": "stdout"
        }
      ]
    },
    {
      "cell_type": "code",
      "metadata": {
        "colab": {
          "base_uri": "https://localhost:8080/",
          "height": 419
        },
        "id": "th4vsHvRRXj_",
        "outputId": "10c2a646-f262-46f2-f118-1bd4104a6a67"
      },
      "source": [
        "pd.read_csv(\"loan_train.csv\")"
      ],
      "execution_count": 4,
      "outputs": [
        {
          "output_type": "execute_result",
          "data": {
            "text/html": [
              "<div>\n",
              "<style scoped>\n",
              "    .dataframe tbody tr th:only-of-type {\n",
              "        vertical-align: middle;\n",
              "    }\n",
              "\n",
              "    .dataframe tbody tr th {\n",
              "        vertical-align: top;\n",
              "    }\n",
              "\n",
              "    .dataframe thead th {\n",
              "        text-align: right;\n",
              "    }\n",
              "</style>\n",
              "<table border=\"1\" class=\"dataframe\">\n",
              "  <thead>\n",
              "    <tr style=\"text-align: right;\">\n",
              "      <th></th>\n",
              "      <th>Unnamed: 0</th>\n",
              "      <th>Unnamed: 0.1</th>\n",
              "      <th>loan_status</th>\n",
              "      <th>Principal</th>\n",
              "      <th>terms</th>\n",
              "      <th>effective_date</th>\n",
              "      <th>due_date</th>\n",
              "      <th>age</th>\n",
              "      <th>education</th>\n",
              "      <th>Gender</th>\n",
              "    </tr>\n",
              "  </thead>\n",
              "  <tbody>\n",
              "    <tr>\n",
              "      <th>0</th>\n",
              "      <td>0</td>\n",
              "      <td>0</td>\n",
              "      <td>PAIDOFF</td>\n",
              "      <td>1000</td>\n",
              "      <td>30</td>\n",
              "      <td>9/8/2016</td>\n",
              "      <td>10/7/2016</td>\n",
              "      <td>45</td>\n",
              "      <td>High School or Below</td>\n",
              "      <td>male</td>\n",
              "    </tr>\n",
              "    <tr>\n",
              "      <th>1</th>\n",
              "      <td>2</td>\n",
              "      <td>2</td>\n",
              "      <td>PAIDOFF</td>\n",
              "      <td>1000</td>\n",
              "      <td>30</td>\n",
              "      <td>9/8/2016</td>\n",
              "      <td>10/7/2016</td>\n",
              "      <td>33</td>\n",
              "      <td>Bechalor</td>\n",
              "      <td>female</td>\n",
              "    </tr>\n",
              "    <tr>\n",
              "      <th>2</th>\n",
              "      <td>3</td>\n",
              "      <td>3</td>\n",
              "      <td>PAIDOFF</td>\n",
              "      <td>1000</td>\n",
              "      <td>15</td>\n",
              "      <td>9/8/2016</td>\n",
              "      <td>9/22/2016</td>\n",
              "      <td>27</td>\n",
              "      <td>college</td>\n",
              "      <td>male</td>\n",
              "    </tr>\n",
              "    <tr>\n",
              "      <th>3</th>\n",
              "      <td>4</td>\n",
              "      <td>4</td>\n",
              "      <td>PAIDOFF</td>\n",
              "      <td>1000</td>\n",
              "      <td>30</td>\n",
              "      <td>9/9/2016</td>\n",
              "      <td>10/8/2016</td>\n",
              "      <td>28</td>\n",
              "      <td>college</td>\n",
              "      <td>female</td>\n",
              "    </tr>\n",
              "    <tr>\n",
              "      <th>4</th>\n",
              "      <td>6</td>\n",
              "      <td>6</td>\n",
              "      <td>PAIDOFF</td>\n",
              "      <td>1000</td>\n",
              "      <td>30</td>\n",
              "      <td>9/9/2016</td>\n",
              "      <td>10/8/2016</td>\n",
              "      <td>29</td>\n",
              "      <td>college</td>\n",
              "      <td>male</td>\n",
              "    </tr>\n",
              "    <tr>\n",
              "      <th>...</th>\n",
              "      <td>...</td>\n",
              "      <td>...</td>\n",
              "      <td>...</td>\n",
              "      <td>...</td>\n",
              "      <td>...</td>\n",
              "      <td>...</td>\n",
              "      <td>...</td>\n",
              "      <td>...</td>\n",
              "      <td>...</td>\n",
              "      <td>...</td>\n",
              "    </tr>\n",
              "    <tr>\n",
              "      <th>341</th>\n",
              "      <td>394</td>\n",
              "      <td>394</td>\n",
              "      <td>COLLECTION</td>\n",
              "      <td>800</td>\n",
              "      <td>15</td>\n",
              "      <td>9/11/2016</td>\n",
              "      <td>9/25/2016</td>\n",
              "      <td>32</td>\n",
              "      <td>High School or Below</td>\n",
              "      <td>male</td>\n",
              "    </tr>\n",
              "    <tr>\n",
              "      <th>342</th>\n",
              "      <td>395</td>\n",
              "      <td>395</td>\n",
              "      <td>COLLECTION</td>\n",
              "      <td>1000</td>\n",
              "      <td>30</td>\n",
              "      <td>9/11/2016</td>\n",
              "      <td>10/10/2016</td>\n",
              "      <td>25</td>\n",
              "      <td>High School or Below</td>\n",
              "      <td>male</td>\n",
              "    </tr>\n",
              "    <tr>\n",
              "      <th>343</th>\n",
              "      <td>397</td>\n",
              "      <td>397</td>\n",
              "      <td>COLLECTION</td>\n",
              "      <td>800</td>\n",
              "      <td>15</td>\n",
              "      <td>9/12/2016</td>\n",
              "      <td>9/26/2016</td>\n",
              "      <td>39</td>\n",
              "      <td>college</td>\n",
              "      <td>male</td>\n",
              "    </tr>\n",
              "    <tr>\n",
              "      <th>344</th>\n",
              "      <td>398</td>\n",
              "      <td>398</td>\n",
              "      <td>COLLECTION</td>\n",
              "      <td>1000</td>\n",
              "      <td>30</td>\n",
              "      <td>9/12/2016</td>\n",
              "      <td>11/10/2016</td>\n",
              "      <td>28</td>\n",
              "      <td>college</td>\n",
              "      <td>male</td>\n",
              "    </tr>\n",
              "    <tr>\n",
              "      <th>345</th>\n",
              "      <td>399</td>\n",
              "      <td>399</td>\n",
              "      <td>COLLECTION</td>\n",
              "      <td>1000</td>\n",
              "      <td>30</td>\n",
              "      <td>9/12/2016</td>\n",
              "      <td>10/11/2016</td>\n",
              "      <td>26</td>\n",
              "      <td>college</td>\n",
              "      <td>male</td>\n",
              "    </tr>\n",
              "  </tbody>\n",
              "</table>\n",
              "<p>346 rows × 10 columns</p>\n",
              "</div>"
            ],
            "text/plain": [
              "     Unnamed: 0  Unnamed: 0.1 loan_status  ...  age             education  Gender\n",
              "0             0             0     PAIDOFF  ...   45  High School or Below    male\n",
              "1             2             2     PAIDOFF  ...   33              Bechalor  female\n",
              "2             3             3     PAIDOFF  ...   27               college    male\n",
              "3             4             4     PAIDOFF  ...   28               college  female\n",
              "4             6             6     PAIDOFF  ...   29               college    male\n",
              "..          ...           ...         ...  ...  ...                   ...     ...\n",
              "341         394           394  COLLECTION  ...   32  High School or Below    male\n",
              "342         395           395  COLLECTION  ...   25  High School or Below    male\n",
              "343         397           397  COLLECTION  ...   39               college    male\n",
              "344         398           398  COLLECTION  ...   28               college    male\n",
              "345         399           399  COLLECTION  ...   26               college    male\n",
              "\n",
              "[346 rows x 10 columns]"
            ]
          },
          "metadata": {
            "tags": []
          },
          "execution_count": 4
        }
      ]
    },
    {
      "cell_type": "code",
      "metadata": {
        "id": "iMxZBvUcRdNt"
      },
      "source": [
        "#from google.colab import files\r\n",
        "#files.download('loan_train.csv')"
      ],
      "execution_count": 5,
      "outputs": []
    },
    {
      "cell_type": "code",
      "metadata": {
        "colab": {
          "base_uri": "https://localhost:8080/",
          "height": 204
        },
        "id": "eTe_WAEcTU0k",
        "outputId": "64f00920-2d6e-41bd-a984-a5f299de9af1"
      },
      "source": [
        "df = pd.read_csv('loan_train.csv')\r\n",
        "df.head()"
      ],
      "execution_count": 6,
      "outputs": [
        {
          "output_type": "execute_result",
          "data": {
            "text/html": [
              "<div>\n",
              "<style scoped>\n",
              "    .dataframe tbody tr th:only-of-type {\n",
              "        vertical-align: middle;\n",
              "    }\n",
              "\n",
              "    .dataframe tbody tr th {\n",
              "        vertical-align: top;\n",
              "    }\n",
              "\n",
              "    .dataframe thead th {\n",
              "        text-align: right;\n",
              "    }\n",
              "</style>\n",
              "<table border=\"1\" class=\"dataframe\">\n",
              "  <thead>\n",
              "    <tr style=\"text-align: right;\">\n",
              "      <th></th>\n",
              "      <th>Unnamed: 0</th>\n",
              "      <th>Unnamed: 0.1</th>\n",
              "      <th>loan_status</th>\n",
              "      <th>Principal</th>\n",
              "      <th>terms</th>\n",
              "      <th>effective_date</th>\n",
              "      <th>due_date</th>\n",
              "      <th>age</th>\n",
              "      <th>education</th>\n",
              "      <th>Gender</th>\n",
              "    </tr>\n",
              "  </thead>\n",
              "  <tbody>\n",
              "    <tr>\n",
              "      <th>0</th>\n",
              "      <td>0</td>\n",
              "      <td>0</td>\n",
              "      <td>PAIDOFF</td>\n",
              "      <td>1000</td>\n",
              "      <td>30</td>\n",
              "      <td>9/8/2016</td>\n",
              "      <td>10/7/2016</td>\n",
              "      <td>45</td>\n",
              "      <td>High School or Below</td>\n",
              "      <td>male</td>\n",
              "    </tr>\n",
              "    <tr>\n",
              "      <th>1</th>\n",
              "      <td>2</td>\n",
              "      <td>2</td>\n",
              "      <td>PAIDOFF</td>\n",
              "      <td>1000</td>\n",
              "      <td>30</td>\n",
              "      <td>9/8/2016</td>\n",
              "      <td>10/7/2016</td>\n",
              "      <td>33</td>\n",
              "      <td>Bechalor</td>\n",
              "      <td>female</td>\n",
              "    </tr>\n",
              "    <tr>\n",
              "      <th>2</th>\n",
              "      <td>3</td>\n",
              "      <td>3</td>\n",
              "      <td>PAIDOFF</td>\n",
              "      <td>1000</td>\n",
              "      <td>15</td>\n",
              "      <td>9/8/2016</td>\n",
              "      <td>9/22/2016</td>\n",
              "      <td>27</td>\n",
              "      <td>college</td>\n",
              "      <td>male</td>\n",
              "    </tr>\n",
              "    <tr>\n",
              "      <th>3</th>\n",
              "      <td>4</td>\n",
              "      <td>4</td>\n",
              "      <td>PAIDOFF</td>\n",
              "      <td>1000</td>\n",
              "      <td>30</td>\n",
              "      <td>9/9/2016</td>\n",
              "      <td>10/8/2016</td>\n",
              "      <td>28</td>\n",
              "      <td>college</td>\n",
              "      <td>female</td>\n",
              "    </tr>\n",
              "    <tr>\n",
              "      <th>4</th>\n",
              "      <td>6</td>\n",
              "      <td>6</td>\n",
              "      <td>PAIDOFF</td>\n",
              "      <td>1000</td>\n",
              "      <td>30</td>\n",
              "      <td>9/9/2016</td>\n",
              "      <td>10/8/2016</td>\n",
              "      <td>29</td>\n",
              "      <td>college</td>\n",
              "      <td>male</td>\n",
              "    </tr>\n",
              "  </tbody>\n",
              "</table>\n",
              "</div>"
            ],
            "text/plain": [
              "   Unnamed: 0  Unnamed: 0.1 loan_status  ...  age             education  Gender\n",
              "0           0             0     PAIDOFF  ...   45  High School or Below    male\n",
              "1           2             2     PAIDOFF  ...   33              Bechalor  female\n",
              "2           3             3     PAIDOFF  ...   27               college    male\n",
              "3           4             4     PAIDOFF  ...   28               college  female\n",
              "4           6             6     PAIDOFF  ...   29               college    male\n",
              "\n",
              "[5 rows x 10 columns]"
            ]
          },
          "metadata": {
            "tags": []
          },
          "execution_count": 6
        }
      ]
    },
    {
      "cell_type": "code",
      "metadata": {
        "colab": {
          "base_uri": "https://localhost:8080/"
        },
        "id": "3L11TtrKTdvL",
        "outputId": "fd2072aa-bc64-4d77-ba21-977ee0afe517"
      },
      "source": [
        "df.shape"
      ],
      "execution_count": 7,
      "outputs": [
        {
          "output_type": "execute_result",
          "data": {
            "text/plain": [
              "(346, 10)"
            ]
          },
          "metadata": {
            "tags": []
          },
          "execution_count": 7
        }
      ]
    },
    {
      "cell_type": "markdown",
      "metadata": {
        "id": "GKiGQztLXkji"
      },
      "source": [
        "# Convert to date time object"
      ]
    },
    {
      "cell_type": "code",
      "metadata": {
        "colab": {
          "base_uri": "https://localhost:8080/",
          "height": 204
        },
        "id": "ECQrf6qzUvA_",
        "outputId": "a0a8082a-4b48-410f-f70d-6eb68c6b4e19"
      },
      "source": [
        "df['due_date'] = pd.to_datetime(df['due_date'])\r\n",
        "df['effective_date'] = pd.to_datetime(df['effective_date'])\r\n",
        "df.head()"
      ],
      "execution_count": 8,
      "outputs": [
        {
          "output_type": "execute_result",
          "data": {
            "text/html": [
              "<div>\n",
              "<style scoped>\n",
              "    .dataframe tbody tr th:only-of-type {\n",
              "        vertical-align: middle;\n",
              "    }\n",
              "\n",
              "    .dataframe tbody tr th {\n",
              "        vertical-align: top;\n",
              "    }\n",
              "\n",
              "    .dataframe thead th {\n",
              "        text-align: right;\n",
              "    }\n",
              "</style>\n",
              "<table border=\"1\" class=\"dataframe\">\n",
              "  <thead>\n",
              "    <tr style=\"text-align: right;\">\n",
              "      <th></th>\n",
              "      <th>Unnamed: 0</th>\n",
              "      <th>Unnamed: 0.1</th>\n",
              "      <th>loan_status</th>\n",
              "      <th>Principal</th>\n",
              "      <th>terms</th>\n",
              "      <th>effective_date</th>\n",
              "      <th>due_date</th>\n",
              "      <th>age</th>\n",
              "      <th>education</th>\n",
              "      <th>Gender</th>\n",
              "    </tr>\n",
              "  </thead>\n",
              "  <tbody>\n",
              "    <tr>\n",
              "      <th>0</th>\n",
              "      <td>0</td>\n",
              "      <td>0</td>\n",
              "      <td>PAIDOFF</td>\n",
              "      <td>1000</td>\n",
              "      <td>30</td>\n",
              "      <td>2016-09-08</td>\n",
              "      <td>2016-10-07</td>\n",
              "      <td>45</td>\n",
              "      <td>High School or Below</td>\n",
              "      <td>male</td>\n",
              "    </tr>\n",
              "    <tr>\n",
              "      <th>1</th>\n",
              "      <td>2</td>\n",
              "      <td>2</td>\n",
              "      <td>PAIDOFF</td>\n",
              "      <td>1000</td>\n",
              "      <td>30</td>\n",
              "      <td>2016-09-08</td>\n",
              "      <td>2016-10-07</td>\n",
              "      <td>33</td>\n",
              "      <td>Bechalor</td>\n",
              "      <td>female</td>\n",
              "    </tr>\n",
              "    <tr>\n",
              "      <th>2</th>\n",
              "      <td>3</td>\n",
              "      <td>3</td>\n",
              "      <td>PAIDOFF</td>\n",
              "      <td>1000</td>\n",
              "      <td>15</td>\n",
              "      <td>2016-09-08</td>\n",
              "      <td>2016-09-22</td>\n",
              "      <td>27</td>\n",
              "      <td>college</td>\n",
              "      <td>male</td>\n",
              "    </tr>\n",
              "    <tr>\n",
              "      <th>3</th>\n",
              "      <td>4</td>\n",
              "      <td>4</td>\n",
              "      <td>PAIDOFF</td>\n",
              "      <td>1000</td>\n",
              "      <td>30</td>\n",
              "      <td>2016-09-09</td>\n",
              "      <td>2016-10-08</td>\n",
              "      <td>28</td>\n",
              "      <td>college</td>\n",
              "      <td>female</td>\n",
              "    </tr>\n",
              "    <tr>\n",
              "      <th>4</th>\n",
              "      <td>6</td>\n",
              "      <td>6</td>\n",
              "      <td>PAIDOFF</td>\n",
              "      <td>1000</td>\n",
              "      <td>30</td>\n",
              "      <td>2016-09-09</td>\n",
              "      <td>2016-10-08</td>\n",
              "      <td>29</td>\n",
              "      <td>college</td>\n",
              "      <td>male</td>\n",
              "    </tr>\n",
              "  </tbody>\n",
              "</table>\n",
              "</div>"
            ],
            "text/plain": [
              "   Unnamed: 0  Unnamed: 0.1 loan_status  ...  age             education  Gender\n",
              "0           0             0     PAIDOFF  ...   45  High School or Below    male\n",
              "1           2             2     PAIDOFF  ...   33              Bechalor  female\n",
              "2           3             3     PAIDOFF  ...   27               college    male\n",
              "3           4             4     PAIDOFF  ...   28               college  female\n",
              "4           6             6     PAIDOFF  ...   29               college    male\n",
              "\n",
              "[5 rows x 10 columns]"
            ]
          },
          "metadata": {
            "tags": []
          },
          "execution_count": 8
        }
      ]
    },
    {
      "cell_type": "markdown",
      "metadata": {
        "id": "OyVxL-AKYI02"
      },
      "source": [
        "# Data visualization and pre-processing"
      ]
    },
    {
      "cell_type": "code",
      "metadata": {
        "colab": {
          "base_uri": "https://localhost:8080/"
        },
        "id": "o-bXQOVpU-yg",
        "outputId": "82874d75-a517-448f-9659-66ed955dd15d"
      },
      "source": [
        "df['loan_status'].value_counts()"
      ],
      "execution_count": 9,
      "outputs": [
        {
          "output_type": "execute_result",
          "data": {
            "text/plain": [
              "PAIDOFF       260\n",
              "COLLECTION     86\n",
              "Name: loan_status, dtype: int64"
            ]
          },
          "metadata": {
            "tags": []
          },
          "execution_count": 9
        }
      ]
    },
    {
      "cell_type": "code",
      "metadata": {
        "colab": {
          "base_uri": "https://localhost:8080/",
          "height": 225
        },
        "id": "iIvGp-dxVCfl",
        "outputId": "851a97e5-ba1d-4001-a4ed-17e212001c4f"
      },
      "source": [
        "import seaborn as sns\r\n",
        "\r\n",
        "bins = np.linspace(df.Principal.min(), df.Principal.max(), 10)\r\n",
        "g = sns.FacetGrid(df, col=\"Gender\", hue=\"loan_status\", palette=\"Set1\", col_wrap=2)\r\n",
        "g.map(plt.hist, 'Principal', bins=bins, ec=\"k\")\r\n",
        "\r\n",
        "g.axes[-1].legend()\r\n",
        "plt.show()"
      ],
      "execution_count": 10,
      "outputs": [
        {
          "output_type": "display_data",
          "data": {
            "image/png": "[encoded data removed]",
            "text/plain": [
              "<Figure size 432x216 with 2 Axes>"
            ]
          },
          "metadata": {
            "tags": [],
            "needs_background": "light"
          }
        }
      ]
    },
    {
      "cell_type": "code",
      "metadata": {
        "colab": {
          "base_uri": "https://localhost:8080/",
          "height": 225
        },
        "id": "CkhnawIzVRhX",
        "outputId": "d2c7fa9b-cea1-45ea-b0d9-94deaf73c848"
      },
      "source": [
        "bins = np.linspace(df.age.min(), df.age.max(), 10)\r\n",
        "g = sns.FacetGrid(df, col=\"Gender\", hue=\"loan_status\", palette=\"Set1\", col_wrap=2)\r\n",
        "g.map(plt.hist, 'age', bins=bins, ec=\"k\")\r\n",
        "\r\n",
        "g.axes[-1].legend()\r\n",
        "plt.show()"
      ],
      "execution_count": 11,
      "outputs": [
        {
          "output_type": "display_data",
          "data": {
            "image/png": "[encoded data removed]",
            "text/plain": [
              "<Figure size 432x216 with 2 Axes>"
            ]
          },
          "metadata": {
            "tags": [],
            "needs_background": "light"
          }
        }
      ]
    },
    {
      "cell_type": "markdown",
      "metadata": {
        "id": "BBXf2bJfYVb1"
      },
      "source": [
        "#Pre-processing: Feature selection/extraction"
      ]
    },
    {
      "cell_type": "code",
      "metadata": {
        "colab": {
          "base_uri": "https://localhost:8080/",
          "height": 225
        },
        "id": "o7jFjxvVVVG3",
        "outputId": "aa2e72eb-df18-4aa8-f5b1-7847ae6a2d27"
      },
      "source": [
        "df['dayofweek'] = df['effective_date'].dt.dayofweek\r\n",
        "bins = np.linspace(df.dayofweek.min(), df.dayofweek.max(), 10)\r\n",
        "g = sns.FacetGrid(df, col=\"Gender\", hue=\"loan_status\", palette=\"Set1\", col_wrap=2)\r\n",
        "g.map(plt.hist, 'dayofweek', bins=bins, ec=\"k\")\r\n",
        "g.axes[-1].legend()\r\n",
        "plt.show()"
      ],
      "execution_count": 12,
      "outputs": [
        {
          "output_type": "display_data",
          "data": {
            "image/png": "[encoded data removed]",
            "text/plain": [
              "<Figure size 432x216 with 2 Axes>"
            ]
          },
          "metadata": {
            "tags": [],
            "needs_background": "light"
          }
        }
      ]
    },
    {
      "cell_type": "markdown",
      "metadata": {
        "id": "q7ZtuSXaZKZc"
      },
      "source": [
        "\r\n",
        "We see that people who get the loan at the end of the week dont pay it off, so lets use Feature binarization to set a threshold values less then day 4"
      ]
    },
    {
      "cell_type": "code",
      "metadata": {
        "colab": {
          "base_uri": "https://localhost:8080/",
          "height": 323
        },
        "id": "w8S_tG7fZL50",
        "outputId": "f35a4b3a-b347-48a2-dc56-059f7c021386"
      },
      "source": [
        "df['weekend'] = df['dayofweek'].apply(lambda x: 1 if (x>3)  else 0)\r\n",
        "df.head()\r\n"
      ],
      "execution_count": 13,
      "outputs": [
        {
          "output_type": "execute_result",
          "data": {
            "text/html": [
              "<div>\n",
              "<style scoped>\n",
              "    .dataframe tbody tr th:only-of-type {\n",
              "        vertical-align: middle;\n",
              "    }\n",
              "\n",
              "    .dataframe tbody tr th {\n",
              "        vertical-align: top;\n",
              "    }\n",
              "\n",
              "    .dataframe thead th {\n",
              "        text-align: right;\n",
              "    }\n",
              "</style>\n",
              "<table border=\"1\" class=\"dataframe\">\n",
              "  <thead>\n",
              "    <tr style=\"text-align: right;\">\n",
              "      <th></th>\n",
              "      <th>Unnamed: 0</th>\n",
              "      <th>Unnamed: 0.1</th>\n",
              "      <th>loan_status</th>\n",
              "      <th>Principal</th>\n",
              "      <th>terms</th>\n",
              "      <th>effective_date</th>\n",
              "      <th>due_date</th>\n",
              "      <th>age</th>\n",
              "      <th>education</th>\n",
              "      <th>Gender</th>\n",
              "      <th>dayofweek</th>\n",
              "      <th>weekend</th>\n",
              "    </tr>\n",
              "  </thead>\n",
              "  <tbody>\n",
              "    <tr>\n",
              "      <th>0</th>\n",
              "      <td>0</td>\n",
              "      <td>0</td>\n",
              "      <td>PAIDOFF</td>\n",
              "      <td>1000</td>\n",
              "      <td>30</td>\n",
              "      <td>2016-09-08</td>\n",
              "      <td>2016-10-07</td>\n",
              "      <td>45</td>\n",
              "      <td>High School or Below</td>\n",
              "      <td>male</td>\n",
              "      <td>3</td>\n",
              "      <td>0</td>\n",
              "    </tr>\n",
              "    <tr>\n",
              "      <th>1</th>\n",
              "      <td>2</td>\n",
              "      <td>2</td>\n",
              "      <td>PAIDOFF</td>\n",
              "      <td>1000</td>\n",
              "      <td>30</td>\n",
              "      <td>2016-09-08</td>\n",
              "      <td>2016-10-07</td>\n",
              "      <td>33</td>\n",
              "      <td>Bechalor</td>\n",
              "      <td>female</td>\n",
              "      <td>3</td>\n",
              "      <td>0</td>\n",
              "    </tr>\n",
              "    <tr>\n",
              "      <th>2</th>\n",
              "      <td>3</td>\n",
              "      <td>3</td>\n",
              "      <td>PAIDOFF</td>\n",
              "      <td>1000</td>\n",
              "      <td>15</td>\n",
              "      <td>2016-09-08</td>\n",
              "      <td>2016-09-22</td>\n",
              "      <td>27</td>\n",
              "      <td>college</td>\n",
              "      <td>male</td>\n",
              "      <td>3</td>\n",
              "      <td>0</td>\n",
              "    </tr>\n",
              "    <tr>\n",
              "      <th>3</th>\n",
              "      <td>4</td>\n",
              "      <td>4</td>\n",
              "      <td>PAIDOFF</td>\n",
              "      <td>1000</td>\n",
              "      <td>30</td>\n",
              "      <td>2016-09-09</td>\n",
              "      <td>2016-10-08</td>\n",
              "      <td>28</td>\n",
              "      <td>college</td>\n",
              "      <td>female</td>\n",
              "      <td>4</td>\n",
              "      <td>1</td>\n",
              "    </tr>\n",
              "    <tr>\n",
              "      <th>4</th>\n",
              "      <td>6</td>\n",
              "      <td>6</td>\n",
              "      <td>PAIDOFF</td>\n",
              "      <td>1000</td>\n",
              "      <td>30</td>\n",
              "      <td>2016-09-09</td>\n",
              "      <td>2016-10-08</td>\n",
              "      <td>29</td>\n",
              "      <td>college</td>\n",
              "      <td>male</td>\n",
              "      <td>4</td>\n",
              "      <td>1</td>\n",
              "    </tr>\n",
              "  </tbody>\n",
              "</table>\n",
              "</div>"
            ],
            "text/plain": [
              "   Unnamed: 0  Unnamed: 0.1 loan_status  ...  Gender  dayofweek weekend\n",
              "0           0             0     PAIDOFF  ...    male          3       0\n",
              "1           2             2     PAIDOFF  ...  female          3       0\n",
              "2           3             3     PAIDOFF  ...    male          3       0\n",
              "3           4             4     PAIDOFF  ...  female          4       1\n",
              "4           6             6     PAIDOFF  ...    male          4       1\n",
              "\n",
              "[5 rows x 12 columns]"
            ]
          },
          "metadata": {
            "tags": []
          },
          "execution_count": 13
        }
      ]
    },
    {
      "cell_type": "markdown",
      "metadata": {
        "id": "a11IdFfYZRZT"
      },
      "source": [
        "# Convert Categorical features to numerical values"
      ]
    },
    {
      "cell_type": "markdown",
      "metadata": {
        "id": "sA-Q1kdWZUbD"
      },
      "source": [
        "Lets look at gender:"
      ]
    },
    {
      "cell_type": "code",
      "metadata": {
        "colab": {
          "base_uri": "https://localhost:8080/"
        },
        "id": "cqMKZLfPZYEm",
        "outputId": "d7625690-68a7-4ac3-9c24-7de2ca4b5746"
      },
      "source": [
        "df.groupby(['Gender'])['loan_status'].value_counts(normalize=True)"
      ],
      "execution_count": 14,
      "outputs": [
        {
          "output_type": "execute_result",
          "data": {
            "text/plain": [
              "Gender  loan_status\n",
              "female  PAIDOFF        0.865385\n",
              "        COLLECTION     0.134615\n",
              "male    PAIDOFF        0.731293\n",
              "        COLLECTION     0.268707\n",
              "Name: loan_status, dtype: float64"
            ]
          },
          "metadata": {
            "tags": []
          },
          "execution_count": 14
        }
      ]
    },
    {
      "cell_type": "markdown",
      "metadata": {
        "id": "zYvjXXwlZdU9"
      },
      "source": [
        "\r\n",
        "86 % of female pay there loans while only 73 % of males pay there loan\r\n",
        "\r\n",
        "Lets convert male to 0 and female to 1:"
      ]
    },
    {
      "cell_type": "code",
      "metadata": {
        "colab": {
          "base_uri": "https://localhost:8080/",
          "height": 323
        },
        "id": "RCtPHi_HZf7N",
        "outputId": "13a3df05-9a5a-4976-bbb6-039ccc42c235"
      },
      "source": [
        "\r\n",
        "df['Gender'].replace(to_replace=['male','female'], value=[0,1],inplace=True)\r\n",
        "df.head()"
      ],
      "execution_count": 15,
      "outputs": [
        {
          "output_type": "execute_result",
          "data": {
            "text/html": [
              "<div>\n",
              "<style scoped>\n",
              "    .dataframe tbody tr th:only-of-type {\n",
              "        vertical-align: middle;\n",
              "    }\n",
              "\n",
              "    .dataframe tbody tr th {\n",
              "        vertical-align: top;\n",
              "    }\n",
              "\n",
              "    .dataframe thead th {\n",
              "        text-align: right;\n",
              "    }\n",
              "</style>\n",
              "<table border=\"1\" class=\"dataframe\">\n",
              "  <thead>\n",
              "    <tr style=\"text-align: right;\">\n",
              "      <th></th>\n",
              "      <th>Unnamed: 0</th>\n",
              "      <th>Unnamed: 0.1</th>\n",
              "      <th>loan_status</th>\n",
              "      <th>Principal</th>\n",
              "      <th>terms</th>\n",
              "      <th>effective_date</th>\n",
              "      <th>due_date</th>\n",
              "      <th>age</th>\n",
              "      <th>education</th>\n",
              "      <th>Gender</th>\n",
              "      <th>dayofweek</th>\n",
              "      <th>weekend</th>\n",
              "    </tr>\n",
              "  </thead>\n",
              "  <tbody>\n",
              "    <tr>\n",
              "      <th>0</th>\n",
              "      <td>0</td>\n",
              "      <td>0</td>\n",
              "      <td>PAIDOFF</td>\n",
              "      <td>1000</td>\n",
              "      <td>30</td>\n",
              "      <td>2016-09-08</td>\n",
              "      <td>2016-10-07</td>\n",
              "      <td>45</td>\n",
              "      <td>High School or Below</td>\n",
              "      <td>0</td>\n",
              "      <td>3</td>\n",
              "      <td>0</td>\n",
              "    </tr>\n",
              "    <tr>\n",
              "      <th>1</th>\n",
              "      <td>2</td>\n",
              "      <td>2</td>\n",
              "      <td>PAIDOFF</td>\n",
              "      <td>1000</td>\n",
              "      <td>30</td>\n",
              "      <td>2016-09-08</td>\n",
              "      <td>2016-10-07</td>\n",
              "      <td>33</td>\n",
              "      <td>Bechalor</td>\n",
              "      <td>1</td>\n",
              "      <td>3</td>\n",
              "      <td>0</td>\n",
              "    </tr>\n",
              "    <tr>\n",
              "      <th>2</th>\n",
              "      <td>3</td>\n",
              "      <td>3</td>\n",
              "      <td>PAIDOFF</td>\n",
              "      <td>1000</td>\n",
              "      <td>15</td>\n",
              "      <td>2016-09-08</td>\n",
              "      <td>2016-09-22</td>\n",
              "      <td>27</td>\n",
              "      <td>college</td>\n",
              "      <td>0</td>\n",
              "      <td>3</td>\n",
              "      <td>0</td>\n",
              "    </tr>\n",
              "    <tr>\n",
              "      <th>3</th>\n",
              "      <td>4</td>\n",
              "      <td>4</td>\n",
              "      <td>PAIDOFF</td>\n",
              "      <td>1000</td>\n",
              "      <td>30</td>\n",
              "      <td>2016-09-09</td>\n",
              "      <td>2016-10-08</td>\n",
              "      <td>28</td>\n",
              "      <td>college</td>\n",
              "      <td>1</td>\n",
              "      <td>4</td>\n",
              "      <td>1</td>\n",
              "    </tr>\n",
              "    <tr>\n",
              "      <th>4</th>\n",
              "      <td>6</td>\n",
              "      <td>6</td>\n",
              "      <td>PAIDOFF</td>\n",
              "      <td>1000</td>\n",
              "      <td>30</td>\n",
              "      <td>2016-09-09</td>\n",
              "      <td>2016-10-08</td>\n",
              "      <td>29</td>\n",
              "      <td>college</td>\n",
              "      <td>0</td>\n",
              "      <td>4</td>\n",
              "      <td>1</td>\n",
              "    </tr>\n",
              "  </tbody>\n",
              "</table>\n",
              "</div>"
            ],
            "text/plain": [
              "   Unnamed: 0  Unnamed: 0.1 loan_status  ...  Gender  dayofweek weekend\n",
              "0           0             0     PAIDOFF  ...       0          3       0\n",
              "1           2             2     PAIDOFF  ...       1          3       0\n",
              "2           3             3     PAIDOFF  ...       0          3       0\n",
              "3           4             4     PAIDOFF  ...       1          4       1\n",
              "4           6             6     PAIDOFF  ...       0          4       1\n",
              "\n",
              "[5 rows x 12 columns]"
            ]
          },
          "metadata": {
            "tags": []
          },
          "execution_count": 15
        }
      ]
    },
    {
      "cell_type": "markdown",
      "metadata": {
        "id": "n_GtnayXZm50"
      },
      "source": [
        "# One Hot Encoding"
      ]
    },
    {
      "cell_type": "markdown",
      "metadata": {
        "id": "eyLhA6nmZret"
      },
      "source": [
        "How about education?"
      ]
    },
    {
      "cell_type": "code",
      "metadata": {
        "colab": {
          "base_uri": "https://localhost:8080/"
        },
        "id": "kNPTZZS7ZsJl",
        "outputId": "c980a321-e45b-44e3-a75b-a713c20fc541"
      },
      "source": [
        "df.groupby(['education'])['loan_status'].value_counts(normalize=True)"
      ],
      "execution_count": 16,
      "outputs": [
        {
          "output_type": "execute_result",
          "data": {
            "text/plain": [
              "education             loan_status\n",
              "Bechalor              PAIDOFF        0.750000\n",
              "                      COLLECTION     0.250000\n",
              "High School or Below  PAIDOFF        0.741722\n",
              "                      COLLECTION     0.258278\n",
              "Master or Above       COLLECTION     0.500000\n",
              "                      PAIDOFF        0.500000\n",
              "college               PAIDOFF        0.765101\n",
              "                      COLLECTION     0.234899\n",
              "Name: loan_status, dtype: float64"
            ]
          },
          "metadata": {
            "tags": []
          },
          "execution_count": 16
        }
      ]
    },
    {
      "cell_type": "markdown",
      "metadata": {
        "id": "3tyfoA94ZygA"
      },
      "source": [
        "# Feature befor One Hot Encoding¶"
      ]
    },
    {
      "cell_type": "code",
      "metadata": {
        "colab": {
          "base_uri": "https://localhost:8080/",
          "height": 204
        },
        "id": "6Y-5-S_kZ1q_",
        "outputId": "3dfcbd9f-dd9d-4284-97b0-46011d6f5580"
      },
      "source": [
        "df[['Principal','terms','age','Gender','education']].head()"
      ],
      "execution_count": 17,
      "outputs": [
        {
          "output_type": "execute_result",
          "data": {
            "text/html": [
              "<div>\n",
              "<style scoped>\n",
              "    .dataframe tbody tr th:only-of-type {\n",
              "        vertical-align: middle;\n",
              "    }\n",
              "\n",
              "    .dataframe tbody tr th {\n",
              "        vertical-align: top;\n",
              "    }\n",
              "\n",
              "    .dataframe thead th {\n",
              "        text-align: right;\n",
              "    }\n",
              "</style>\n",
              "<table border=\"1\" class=\"dataframe\">\n",
              "  <thead>\n",
              "    <tr style=\"text-align: right;\">\n",
              "      <th></th>\n",
              "      <th>Principal</th>\n",
              "      <th>terms</th>\n",
              "      <th>age</th>\n",
              "      <th>Gender</th>\n",
              "      <th>education</th>\n",
              "    </tr>\n",
              "  </thead>\n",
              "  <tbody>\n",
              "    <tr>\n",
              "      <th>0</th>\n",
              "      <td>1000</td>\n",
              "      <td>30</td>\n",
              "      <td>45</td>\n",
              "      <td>0</td>\n",
              "      <td>High School or Below</td>\n",
              "    </tr>\n",
              "    <tr>\n",
              "      <th>1</th>\n",
              "      <td>1000</td>\n",
              "      <td>30</td>\n",
              "      <td>33</td>\n",
              "      <td>1</td>\n",
              "      <td>Bechalor</td>\n",
              "    </tr>\n",
              "    <tr>\n",
              "      <th>2</th>\n",
              "      <td>1000</td>\n",
              "      <td>15</td>\n",
              "      <td>27</td>\n",
              "      <td>0</td>\n",
              "      <td>college</td>\n",
              "    </tr>\n",
              "    <tr>\n",
              "      <th>3</th>\n",
              "      <td>1000</td>\n",
              "      <td>30</td>\n",
              "      <td>28</td>\n",
              "      <td>1</td>\n",
              "      <td>college</td>\n",
              "    </tr>\n",
              "    <tr>\n",
              "      <th>4</th>\n",
              "      <td>1000</td>\n",
              "      <td>30</td>\n",
              "      <td>29</td>\n",
              "      <td>0</td>\n",
              "      <td>college</td>\n",
              "    </tr>\n",
              "  </tbody>\n",
              "</table>\n",
              "</div>"
            ],
            "text/plain": [
              "   Principal  terms  age  Gender             education\n",
              "0       1000     30   45       0  High School or Below\n",
              "1       1000     30   33       1              Bechalor\n",
              "2       1000     15   27       0               college\n",
              "3       1000     30   28       1               college\n",
              "4       1000     30   29       0               college"
            ]
          },
          "metadata": {
            "tags": []
          },
          "execution_count": 17
        }
      ]
    },
    {
      "cell_type": "markdown",
      "metadata": {
        "id": "h45hs33XZ6Lm"
      },
      "source": [
        "\r\n",
        "Use one hot encoding technique to conver categorical varables to binary variables and append them to the feature Data Frame"
      ]
    },
    {
      "cell_type": "code",
      "metadata": {
        "colab": {
          "base_uri": "https://localhost:8080/",
          "height": 204
        },
        "id": "Wl9j3mUgZ7CW",
        "outputId": "0e75bbf0-59ef-4d57-886b-7db3ffd62480"
      },
      "source": [
        "Feature = df[['Principal','terms','age','Gender','weekend']]\r\n",
        "Feature = pd.concat([Feature,pd.get_dummies(df['education'])], axis=1)\r\n",
        "Feature.drop(['Master or Above'], axis = 1,inplace=True)\r\n",
        "Feature.head()"
      ],
      "execution_count": 18,
      "outputs": [
        {
          "output_type": "execute_result",
          "data": {
            "text/html": [
              "<div>\n",
              "<style scoped>\n",
              "    .dataframe tbody tr th:only-of-type {\n",
              "        vertical-align: middle;\n",
              "    }\n",
              "\n",
              "    .dataframe tbody tr th {\n",
              "        vertical-align: top;\n",
              "    }\n",
              "\n",
              "    .dataframe thead th {\n",
              "        text-align: right;\n",
              "    }\n",
              "</style>\n",
              "<table border=\"1\" class=\"dataframe\">\n",
              "  <thead>\n",
              "    <tr style=\"text-align: right;\">\n",
              "      <th></th>\n",
              "      <th>Principal</th>\n",
              "      <th>terms</th>\n",
              "      <th>age</th>\n",
              "      <th>Gender</th>\n",
              "      <th>weekend</th>\n",
              "      <th>Bechalor</th>\n",
              "      <th>High School or Below</th>\n",
              "      <th>college</th>\n",
              "    </tr>\n",
              "  </thead>\n",
              "  <tbody>\n",
              "    <tr>\n",
              "      <th>0</th>\n",
              "      <td>1000</td>\n",
              "      <td>30</td>\n",
              "      <td>45</td>\n",
              "      <td>0</td>\n",
              "      <td>0</td>\n",
              "      <td>0</td>\n",
              "      <td>1</td>\n",
              "      <td>0</td>\n",
              "    </tr>\n",
              "    <tr>\n",
              "      <th>1</th>\n",
              "      <td>1000</td>\n",
              "      <td>30</td>\n",
              "      <td>33</td>\n",
              "      <td>1</td>\n",
              "      <td>0</td>\n",
              "      <td>1</td>\n",
              "      <td>0</td>\n",
              "      <td>0</td>\n",
              "    </tr>\n",
              "    <tr>\n",
              "      <th>2</th>\n",
              "      <td>1000</td>\n",
              "      <td>15</td>\n",
              "      <td>27</td>\n",
              "      <td>0</td>\n",
              "      <td>0</td>\n",
              "      <td>0</td>\n",
              "      <td>0</td>\n",
              "      <td>1</td>\n",
              "    </tr>\n",
              "    <tr>\n",
              "      <th>3</th>\n",
              "      <td>1000</td>\n",
              "      <td>30</td>\n",
              "      <td>28</td>\n",
              "      <td>1</td>\n",
              "      <td>1</td>\n",
              "      <td>0</td>\n",
              "      <td>0</td>\n",
              "      <td>1</td>\n",
              "    </tr>\n",
              "    <tr>\n",
              "      <th>4</th>\n",
              "      <td>1000</td>\n",
              "      <td>30</td>\n",
              "      <td>29</td>\n",
              "      <td>0</td>\n",
              "      <td>1</td>\n",
              "      <td>0</td>\n",
              "      <td>0</td>\n",
              "      <td>1</td>\n",
              "    </tr>\n",
              "  </tbody>\n",
              "</table>\n",
              "</div>"
            ],
            "text/plain": [
              "   Principal  terms  age  ...  Bechalor  High School or Below  college\n",
              "0       1000     30   45  ...         0                     1        0\n",
              "1       1000     30   33  ...         1                     0        0\n",
              "2       1000     15   27  ...         0                     0        1\n",
              "3       1000     30   28  ...         0                     0        1\n",
              "4       1000     30   29  ...         0                     0        1\n",
              "\n",
              "[5 rows x 8 columns]"
            ]
          },
          "metadata": {
            "tags": []
          },
          "execution_count": 18
        }
      ]
    },
    {
      "cell_type": "markdown",
      "metadata": {
        "id": "9qeP00AxZ_KJ"
      },
      "source": [
        "# Feature selection"
      ]
    },
    {
      "cell_type": "markdown",
      "metadata": {
        "id": "6SDWKhfRaDLO"
      },
      "source": [
        "Lets defind feature sets, X:"
      ]
    },
    {
      "cell_type": "code",
      "metadata": {
        "colab": {
          "base_uri": "https://localhost:8080/",
          "height": 204
        },
        "id": "lr0AxBb_aEEC",
        "outputId": "39466b5e-760a-4165-8ef3-c61ea1c6e78c"
      },
      "source": [
        "\r\n",
        "X = Feature\r\n",
        "X[0:5]"
      ],
      "execution_count": 19,
      "outputs": [
        {
          "output_type": "execute_result",
          "data": {
            "text/html": [
              "<div>\n",
              "<style scoped>\n",
              "    .dataframe tbody tr th:only-of-type {\n",
              "        vertical-align: middle;\n",
              "    }\n",
              "\n",
              "    .dataframe tbody tr th {\n",
              "        vertical-align: top;\n",
              "    }\n",
              "\n",
              "    .dataframe thead th {\n",
              "        text-align: right;\n",
              "    }\n",
              "</style>\n",
              "<table border=\"1\" class=\"dataframe\">\n",
              "  <thead>\n",
              "    <tr style=\"text-align: right;\">\n",
              "      <th></th>\n",
              "      <th>Principal</th>\n",
              "      <th>terms</th>\n",
              "      <th>age</th>\n",
              "      <th>Gender</th>\n",
              "      <th>weekend</th>\n",
              "      <th>Bechalor</th>\n",
              "      <th>High School or Below</th>\n",
              "      <th>college</th>\n",
              "    </tr>\n",
              "  </thead>\n",
              "  <tbody>\n",
              "    <tr>\n",
              "      <th>0</th>\n",
              "      <td>1000</td>\n",
              "      <td>30</td>\n",
              "      <td>45</td>\n",
              "      <td>0</td>\n",
              "      <td>0</td>\n",
              "      <td>0</td>\n",
              "      <td>1</td>\n",
              "      <td>0</td>\n",
              "    </tr>\n",
              "    <tr>\n",
              "      <th>1</th>\n",
              "      <td>1000</td>\n",
              "      <td>30</td>\n",
              "      <td>33</td>\n",
              "      <td>1</td>\n",
              "      <td>0</td>\n",
              "      <td>1</td>\n",
              "      <td>0</td>\n",
              "      <td>0</td>\n",
              "    </tr>\n",
              "    <tr>\n",
              "      <th>2</th>\n",
              "      <td>1000</td>\n",
              "      <td>15</td>\n",
              "      <td>27</td>\n",
              "      <td>0</td>\n",
              "      <td>0</td>\n",
              "      <td>0</td>\n",
              "      <td>0</td>\n",
              "      <td>1</td>\n",
              "    </tr>\n",
              "    <tr>\n",
              "      <th>3</th>\n",
              "      <td>1000</td>\n",
              "      <td>30</td>\n",
              "      <td>28</td>\n",
              "      <td>1</td>\n",
              "      <td>1</td>\n",
              "      <td>0</td>\n",
              "      <td>0</td>\n",
              "      <td>1</td>\n",
              "    </tr>\n",
              "    <tr>\n",
              "      <th>4</th>\n",
              "      <td>1000</td>\n",
              "      <td>30</td>\n",
              "      <td>29</td>\n",
              "      <td>0</td>\n",
              "      <td>1</td>\n",
              "      <td>0</td>\n",
              "      <td>0</td>\n",
              "      <td>1</td>\n",
              "    </tr>\n",
              "  </tbody>\n",
              "</table>\n",
              "</div>"
            ],
            "text/plain": [
              "   Principal  terms  age  ...  Bechalor  High School or Below  college\n",
              "0       1000     30   45  ...         0                     1        0\n",
              "1       1000     30   33  ...         1                     0        0\n",
              "2       1000     15   27  ...         0                     0        1\n",
              "3       1000     30   28  ...         0                     0        1\n",
              "4       1000     30   29  ...         0                     0        1\n",
              "\n",
              "[5 rows x 8 columns]"
            ]
          },
          "metadata": {
            "tags": []
          },
          "execution_count": 19
        }
      ]
    },
    {
      "cell_type": "markdown",
      "metadata": {
        "id": "0rD4KpIdaJVP"
      },
      "source": [
        "What are our lables?"
      ]
    },
    {
      "cell_type": "code",
      "metadata": {
        "colab": {
          "base_uri": "https://localhost:8080/"
        },
        "id": "i1iRaXL6aKIu",
        "outputId": "a9de1665-9248-45a3-cdee-83694408267b"
      },
      "source": [
        "y = df['loan_status'].values\r\n",
        "y[0:5]"
      ],
      "execution_count": 20,
      "outputs": [
        {
          "output_type": "execute_result",
          "data": {
            "text/plain": [
              "array(['PAIDOFF', 'PAIDOFF', 'PAIDOFF', 'PAIDOFF', 'PAIDOFF'],\n",
              "      dtype=object)"
            ]
          },
          "metadata": {
            "tags": []
          },
          "execution_count": 20
        }
      ]
    },
    {
      "cell_type": "markdown",
      "metadata": {
        "id": "QX2ilD41aOnI"
      },
      "source": [
        "# Normalize Data"
      ]
    },
    {
      "cell_type": "markdown",
      "metadata": {
        "id": "KOr7Hh3paREu"
      },
      "source": [
        "Data Standardization give data zero mean and unit variance (technically should be done after train test split )"
      ]
    },
    {
      "cell_type": "code",
      "metadata": {
        "colab": {
          "base_uri": "https://localhost:8080/"
        },
        "id": "gmNm9FM4aTQR",
        "outputId": "28716e8d-8f6e-4e20-95fb-f9533456b4eb"
      },
      "source": [
        "\r\n",
        "X= preprocessing.StandardScaler().fit(X).transform(X)\r\n",
        "X[0:5]"
      ],
      "execution_count": 21,
      "outputs": [
        {
          "output_type": "execute_result",
          "data": {
            "text/plain": [
              "array([[ 0.51578458,  0.92071769,  2.33152555, -0.42056004, -1.20577805,\n",
              "        -0.38170062,  1.13639374, -0.86968108],\n",
              "       [ 0.51578458,  0.92071769,  0.34170148,  2.37778177, -1.20577805,\n",
              "         2.61985426, -0.87997669, -0.86968108],\n",
              "       [ 0.51578458, -0.95911111, -0.65321055, -0.42056004, -1.20577805,\n",
              "        -0.38170062, -0.87997669,  1.14984679],\n",
              "       [ 0.51578458,  0.92071769, -0.48739188,  2.37778177,  0.82934003,\n",
              "        -0.38170062, -0.87997669,  1.14984679],\n",
              "       [ 0.51578458,  0.92071769, -0.3215732 , -0.42056004,  0.82934003,\n",
              "        -0.38170062, -0.87997669,  1.14984679]])"
            ]
          },
          "metadata": {
            "tags": []
          },
          "execution_count": 21
        }
      ]
    },
    {
      "cell_type": "markdown",
      "metadata": {
        "id": "lrryrhCjaXr6"
      },
      "source": [
        "# Classification"
      ]
    },
    {
      "cell_type": "markdown",
      "metadata": {
        "id": "c_SwSDrvae64"
      },
      "source": [
        "Now, it is your turn, use the training set to build an accurate model. Then use the test set to report the accuracy of the model You should use the following algorithm:\r\n",
        "\r\n",
        "K Nearest Neighbor(KNN)\r\n",
        "Decision Tree\r\n",
        "Support Vector Machine\r\n",
        "Logistic Regression\r\n",
        "Notice:\r\n",
        "\r\n",
        "You can go above and change the pre-processing, feature selection, feature-extraction, and so on, to make a better model.\r\n",
        "You should use either scikit-learn, Scipy or Numpy libraries for developing the classification algorithms.\r\n",
        "You should include the code of the algorithm in the following cells.\r\n",
        "K Nearest Neighbor(KNN)\r\n",
        "Notice: You should find the best k to build the model with the best accuracy.\r\n",
        "warning: You should not use the loan_test.csv for finding the best k, however, you can split your train_loan.csv into train and test to find the best k."
      ]
    },
    {
      "cell_type": "markdown",
      "metadata": {
        "id": "rlcwul3Oah9h"
      },
      "source": [
        "# K Nearest Neighbor(KNN)"
      ]
    },
    {
      "cell_type": "markdown",
      "metadata": {
        "id": "tdhIXon9alvP"
      },
      "source": [
        "Notice: You should find the best k to build the model with the best accuracy.\r\n",
        "warning: You should not use the loan_test.csv for finding the best k, however, you can split your train_loan.csv into train and test to find the best k."
      ]
    },
    {
      "cell_type": "code",
      "metadata": {
        "id": "xxDdHifhbmAT"
      },
      "source": [
        "from sklearn.model_selection import train_test_split"
      ],
      "execution_count": 22,
      "outputs": []
    },
    {
      "cell_type": "code",
      "metadata": {
        "id": "Ebil-RsLbu77"
      },
      "source": [
        "import sklearn as sk\r\n",
        "from sklearn.neighbors import KNeighborsClassifier\r\n",
        "#from sklearn.cross_validation import train_test_split\r\n",
        "#yesssss\r\n",
        "from sklearn.model_selection import train_test_split\r\n",
        "import sklearn.metrics as metrics"
      ],
      "execution_count": 23,
      "outputs": []
    },
    {
      "cell_type": "code",
      "metadata": {
        "id": "MzAvqjvpbyKK"
      },
      "source": [
        "seed=50\r\n",
        "X_train, X_test, y_train, y_test = train_test_split(X,y, test_size=0.40, random_state=seed)"
      ],
      "execution_count": 24,
      "outputs": []
    },
    {
      "cell_type": "code",
      "metadata": {
        "colab": {
          "base_uri": "https://localhost:8080/"
        },
        "id": "2FCd-xZocBQk",
        "outputId": "6e0da97f-0a09-483d-8ce1-e1652aece8aa"
      },
      "source": [
        "score=[]\r\n",
        "for k in range(1,100):\r\n",
        "    knn=KNeighborsClassifier(n_neighbors=k,weights='uniform')\r\n",
        "    knn.fit(X_train,y_train)\r\n",
        "    predKNN=knn.predict(X_test)\r\n",
        "    accuracy=metrics.accuracy_score(predKNN,y_test)\r\n",
        "    score.append(accuracy*100)\r\n",
        "    print (k,': ',accuracy)"
      ],
      "execution_count": 25,
      "outputs": [
        {
          "output_type": "stream",
          "text": [
            "1 :  0.6906474820143885\n",
            "2 :  0.5827338129496403\n",
            "3 :  0.7266187050359713\n",
            "4 :  0.6762589928057554\n",
            "5 :  0.7482014388489209\n",
            "6 :  0.6762589928057554\n",
            "7 :  0.7482014388489209\n",
            "8 :  0.7050359712230215\n",
            "9 :  0.7769784172661871\n",
            "10 :  0.7338129496402878\n",
            "11 :  0.7482014388489209\n",
            "12 :  0.7194244604316546\n",
            "13 :  0.7482014388489209\n",
            "14 :  0.7266187050359713\n",
            "15 :  0.7410071942446043\n",
            "16 :  0.7338129496402878\n",
            "17 :  0.7482014388489209\n",
            "18 :  0.7266187050359713\n",
            "19 :  0.7553956834532374\n",
            "20 :  0.7266187050359713\n",
            "21 :  0.762589928057554\n",
            "22 :  0.7194244604316546\n",
            "23 :  0.762589928057554\n",
            "24 :  0.7482014388489209\n",
            "25 :  0.762589928057554\n",
            "26 :  0.762589928057554\n",
            "27 :  0.762589928057554\n",
            "28 :  0.762589928057554\n",
            "29 :  0.762589928057554\n",
            "30 :  0.762589928057554\n",
            "31 :  0.7913669064748201\n",
            "32 :  0.7769784172661871\n",
            "33 :  0.7913669064748201\n",
            "34 :  0.7913669064748201\n",
            "35 :  0.7913669064748201\n",
            "36 :  0.7985611510791367\n",
            "37 :  0.7841726618705036\n",
            "38 :  0.7913669064748201\n",
            "39 :  0.7913669064748201\n",
            "40 :  0.7841726618705036\n",
            "41 :  0.8345323741007195\n",
            "42 :  0.8345323741007195\n",
            "43 :  0.8273381294964028\n",
            "44 :  0.8345323741007195\n",
            "45 :  0.8201438848920863\n",
            "46 :  0.8201438848920863\n",
            "47 :  0.8201438848920863\n",
            "48 :  0.8273381294964028\n",
            "49 :  0.8201438848920863\n",
            "50 :  0.8201438848920863\n",
            "51 :  0.8201438848920863\n",
            "52 :  0.8201438848920863\n",
            "53 :  0.8201438848920863\n",
            "54 :  0.8201438848920863\n",
            "55 :  0.8201438848920863\n",
            "56 :  0.8201438848920863\n",
            "57 :  0.8201438848920863\n",
            "58 :  0.8201438848920863\n",
            "59 :  0.8201438848920863\n",
            "60 :  0.8201438848920863\n",
            "61 :  0.8201438848920863\n",
            "62 :  0.8201438848920863\n",
            "63 :  0.8201438848920863\n",
            "64 :  0.8201438848920863\n",
            "65 :  0.8201438848920863\n",
            "66 :  0.8201438848920863\n",
            "67 :  0.8201438848920863\n",
            "68 :  0.8201438848920863\n",
            "69 :  0.8201438848920863\n",
            "70 :  0.8201438848920863\n",
            "71 :  0.8201438848920863\n",
            "72 :  0.8201438848920863\n",
            "73 :  0.8201438848920863\n",
            "74 :  0.8201438848920863\n",
            "75 :  0.8201438848920863\n",
            "76 :  0.8201438848920863\n",
            "77 :  0.8201438848920863\n",
            "78 :  0.8201438848920863\n",
            "79 :  0.8201438848920863\n",
            "80 :  0.8201438848920863\n",
            "81 :  0.8201438848920863\n",
            "82 :  0.8201438848920863\n",
            "83 :  0.8201438848920863\n",
            "84 :  0.8201438848920863\n",
            "85 :  0.8201438848920863\n",
            "86 :  0.8201438848920863\n",
            "87 :  0.8201438848920863\n",
            "88 :  0.8201438848920863\n",
            "89 :  0.8201438848920863\n",
            "90 :  0.8201438848920863\n",
            "91 :  0.8201438848920863\n",
            "92 :  0.8201438848920863\n",
            "93 :  0.8201438848920863\n",
            "94 :  0.8201438848920863\n",
            "95 :  0.8201438848920863\n",
            "96 :  0.8201438848920863\n",
            "97 :  0.8201438848920863\n",
            "98 :  0.8201438848920863\n",
            "99 :  0.8201438848920863\n"
          ],
          "name": "stdout"
        }
      ]
    },
    {
      "cell_type": "code",
      "metadata": {
        "colab": {
          "base_uri": "https://localhost:8080/"
        },
        "id": "WYDOk08ocFtp",
        "outputId": "a60383b1-6eb0-47fe-be41-83339c52794e"
      },
      "source": [
        "print(score.index(max(score))+1,' : ',round(max(score),2),'%')"
      ],
      "execution_count": 26,
      "outputs": [
        {
          "output_type": "stream",
          "text": [
            "41  :  83.45 %\n"
          ],
          "name": "stdout"
        }
      ]
    },
    {
      "cell_type": "code",
      "metadata": {
        "colab": {
          "base_uri": "https://localhost:8080/",
          "height": 296
        },
        "id": "jWqmUg85cHKq",
        "outputId": "2281bfb8-3881-4c1d-d6f3-37f8fc9cb0ad"
      },
      "source": [
        "plt.plot(range(1,100),score)\r\n",
        "plt.xlabel('Number of Neighbors K')\r\n",
        "plt.ylabel('Train Accuracy')"
      ],
      "execution_count": 27,
      "outputs": [
        {
          "output_type": "execute_result",
          "data": {
            "text/plain": [
              "Text(0, 0.5, 'Train Accuracy')"
            ]
          },
          "metadata": {
            "tags": []
          },
          "execution_count": 27
        },
        {
          "output_type": "display_data",
          "data": {
            "image/png": "[encoded data removed]",
            "text/plain": [
              "<Figure size 432x288 with 1 Axes>"
            ]
          },
          "metadata": {
            "tags": [],
            "needs_background": "light"
          }
        }
      ]
    },
    {
      "cell_type": "code",
      "metadata": {
        "colab": {
          "base_uri": "https://localhost:8080/"
        },
        "id": "cJj3twVGcK4t",
        "outputId": "b10117ed-a685-4cf5-a098-b412e0e84ab4"
      },
      "source": [
        "knn=KNeighborsClassifier(n_neighbors=41,weights='uniform')\r\n",
        "knn.fit(X_train,y_train)\r\n",
        "predKNN=knn.predict(X_test)\r\n",
        "accuracy=metrics.accuracy_score(predKNN,y_test)\r\n",
        "print(\"accuracy : \",round(accuracy,3)*100,'%')"
      ],
      "execution_count": 28,
      "outputs": [
        {
          "output_type": "stream",
          "text": [
            "accuracy :  83.5 %\n"
          ],
          "name": "stdout"
        }
      ]
    },
    {
      "cell_type": "code",
      "metadata": {
        "colab": {
          "base_uri": "https://localhost:8080/"
        },
        "id": "VeE4N6sacToe",
        "outputId": "6987788d-6257-484d-b317-7e0ddc8ef773"
      },
      "source": [
        "from sklearn.metrics import classification_report,jaccard_similarity_score,log_loss,f1_score\r\n",
        "print(classification_report(y_test,predKNN))\r\n",
        "print('\\n')\r\n",
        "print('Jaccard Similarity Score : ',round(jaccard_similarity_score(y_test,predKNN)*100,2),'%')\r\n",
        "print('\\n')\r\n",
        "print('F1-SCORE : ',f1_score(y_test,predKNN,average=None))\r\n",
        "print('\\n')\r\n",
        "print('Train Accuracy: ',metrics.accuracy_score(y_train, knn.predict(X_train))*100,'%')"
      ],
      "execution_count": 29,
      "outputs": [
        {
          "output_type": "stream",
          "text": [
            "              precision    recall  f1-score   support\n",
            "\n",
            "  COLLECTION       0.67      0.16      0.26        25\n",
            "     PAIDOFF       0.84      0.98      0.91       114\n",
            "\n",
            "    accuracy                           0.83       139\n",
            "   macro avg       0.75      0.57      0.58       139\n",
            "weighted avg       0.81      0.83      0.79       139\n",
            "\n",
            "\n",
            "\n",
            "Jaccard Similarity Score :  83.45 %\n",
            "\n",
            "\n",
            "F1-SCORE :  [0.25806452 0.90688259]\n",
            "\n",
            "\n",
            "Train Accuracy:  72.46376811594203 %\n"
          ],
          "name": "stdout"
        },
        {
          "output_type": "stream",
          "text": [
            "/usr/local/lib/python3.6/dist-packages/sklearn/metrics/_classification.py:664: FutureWarning: jaccard_similarity_score has been deprecated and replaced with jaccard_score. It will be removed in version 0.23. This implementation has surprising behavior for binary and multiclass classification tasks.\n",
            "  FutureWarning)\n"
          ],
          "name": "stderr"
        }
      ]
    },
    {
      "cell_type": "markdown",
      "metadata": {
        "id": "GM-nbnazcZr7"
      },
      "source": [
        "# Decision Tree"
      ]
    },
    {
      "cell_type": "code",
      "metadata": {
        "id": "CaQVKt5ZcbXg"
      },
      "source": [
        "from sklearn.tree import DecisionTreeClassifier\r\n",
        "#from sklearn.grid_search import GridSearchCV\r\n",
        "#yesssssss\r\n",
        "from sklearn.model_selection import learning_curve, GridSearchCV\r\n",
        "dtree=DecisionTreeClassifier() "
      ],
      "execution_count": 30,
      "outputs": []
    },
    {
      "cell_type": "code",
      "metadata": {
        "colab": {
          "base_uri": "https://localhost:8080/"
        },
        "id": "ZTKKZAAZgpPn",
        "outputId": "986ee94a-7d74-4a18-b4bd-b93ee89f8627"
      },
      "source": [
        "parameter_grid = {'max_depth': [1, 2, 3, 4, 5,6,5,9,15,20],\r\n",
        "                  'max_features': [1, 2, 3, 4,5,6,7,8],\r\n",
        "                 'random_state':[0,15,20,35,50,80,100,150,180,200],\r\n",
        "                 'criterion':['gini','entropy'],\r\n",
        "                 }\r\n",
        "\r\n",
        "grid_search = GridSearchCV(dtree, param_grid = parameter_grid,\r\n",
        "                          cv =10)\r\n",
        "\r\n",
        "grid_search.fit(X_train, y_train)\r\n",
        "\r\n",
        "print (\"Best Score: {}\".format(grid_search.best_score_))\r\n",
        "print (\"Best params: {}\".format(grid_search.best_params_))"
      ],
      "execution_count": 31,
      "outputs": [
        {
          "output_type": "stream",
          "text": [
            "Best Score: 0.7435714285714285\n",
            "Best params: {'criterion': 'entropy', 'max_depth': 5, 'max_features': 2, 'random_state': 0}\n"
          ],
          "name": "stdout"
        }
      ]
    },
    {
      "cell_type": "code",
      "metadata": {
        "id": "eZk1UABPgrQc"
      },
      "source": [
        "dtree=DecisionTreeClassifier(max_depth=5,criterion='entropy',max_features=2,random_state=0)"
      ],
      "execution_count": 32,
      "outputs": []
    },
    {
      "cell_type": "code",
      "metadata": {
        "id": "U5o5Tgm_guEs"
      },
      "source": [
        "dtree.fit(X_train,y_train)\r\n",
        "pred_Dtree=dtree.predict(X_test)"
      ],
      "execution_count": 33,
      "outputs": []
    },
    {
      "cell_type": "code",
      "metadata": {
        "colab": {
          "base_uri": "https://localhost:8080/"
        },
        "id": "nZKHCj1ugv9s",
        "outputId": "df8c5a0c-fe84-41e2-9db4-ff16150a07e0"
      },
      "source": [
        "print(classification_report(y_test,pred_Dtree))\r\n",
        "print('\\n')\r\n",
        "print('Jaccard Similarity Score : ',round(jaccard_similarity_score(y_test,pred_Dtree)*100,2),'%')\r\n",
        "print('\\n')\r\n",
        "print('F1-SCORE : ',f1_score(y_test,pred_Dtree,average=None))\r\n",
        "print('\\n')\r\n",
        "print('Train Accuracy: ',metrics.accuracy_score(y_train, dtree.predict(X_train))*100,'%')"
      ],
      "execution_count": 34,
      "outputs": [
        {
          "output_type": "stream",
          "text": [
            "              precision    recall  f1-score   support\n",
            "\n",
            "  COLLECTION       0.32      0.40      0.36        25\n",
            "     PAIDOFF       0.86      0.82      0.84       114\n",
            "\n",
            "    accuracy                           0.74       139\n",
            "   macro avg       0.59      0.61      0.60       139\n",
            "weighted avg       0.76      0.74      0.75       139\n",
            "\n",
            "\n",
            "\n",
            "Jaccard Similarity Score :  74.1 %\n",
            "\n",
            "\n",
            "F1-SCORE :  [0.35714286 0.83783784]\n",
            "\n",
            "\n",
            "Train Accuracy:  77.29468599033817 %\n"
          ],
          "name": "stdout"
        },
        {
          "output_type": "stream",
          "text": [
            "/usr/local/lib/python3.6/dist-packages/sklearn/metrics/_classification.py:664: FutureWarning: jaccard_similarity_score has been deprecated and replaced with jaccard_score. It will be removed in version 0.23. This implementation has surprising behavior for binary and multiclass classification tasks.\n",
            "  FutureWarning)\n"
          ],
          "name": "stderr"
        }
      ]
    },
    {
      "cell_type": "markdown",
      "metadata": {
        "id": "10fRMkDcg7U5"
      },
      "source": [
        "# Support Vector Machine"
      ]
    },
    {
      "cell_type": "code",
      "metadata": {
        "id": "dXv746mLg_fS"
      },
      "source": [
        "from sklearn.svm import SVC\r\n",
        "from sklearn.metrics import accuracy_score"
      ],
      "execution_count": 35,
      "outputs": []
    },
    {
      "cell_type": "code",
      "metadata": {
        "id": "nRvuJEYmhD8K"
      },
      "source": [
        "svm=SVC().fit(X_train,y_train)"
      ],
      "execution_count": 36,
      "outputs": []
    },
    {
      "cell_type": "code",
      "metadata": {
        "id": "uGtBoBuzhGx6"
      },
      "source": [
        "pred_svm=svm.predict(X_test)"
      ],
      "execution_count": 37,
      "outputs": []
    },
    {
      "cell_type": "code",
      "metadata": {
        "colab": {
          "base_uri": "https://localhost:8080/"
        },
        "id": "WQ34-zfJhLPK",
        "outputId": "cca6485d-01bc-4c6c-b929-3999dfb49591"
      },
      "source": [
        "print(classification_report(y_test,pred_svm))\r\n",
        "print('\\n')\r\n",
        "print('Jaccard Similarity Score : ',round(jaccard_similarity_score(y_test,pred_svm)*100,2),'%')\r\n",
        "print('\\n')\r\n",
        "print('F1-SCORE : ',f1_score(y_test,pred_svm,average=None))\r\n",
        "print('\\n')\r\n",
        "print('Train Accuracy: ',metrics.accuracy_score(y_train, svm.predict(X_train))*100,'%')"
      ],
      "execution_count": 38,
      "outputs": [
        {
          "output_type": "stream",
          "text": [
            "              precision    recall  f1-score   support\n",
            "\n",
            "  COLLECTION       0.33      0.24      0.28        25\n",
            "     PAIDOFF       0.84      0.89      0.87       114\n",
            "\n",
            "    accuracy                           0.78       139\n",
            "   macro avg       0.59      0.57      0.57       139\n",
            "weighted avg       0.75      0.78      0.76       139\n",
            "\n",
            "\n",
            "\n",
            "Jaccard Similarity Score :  77.7 %\n",
            "\n",
            "\n",
            "F1-SCORE :  [0.27906977 0.86808511]\n",
            "\n",
            "\n",
            "Train Accuracy:  76.32850241545893 %\n"
          ],
          "name": "stdout"
        },
        {
          "output_type": "stream",
          "text": [
            "/usr/local/lib/python3.6/dist-packages/sklearn/metrics/_classification.py:664: FutureWarning: jaccard_similarity_score has been deprecated and replaced with jaccard_score. It will be removed in version 0.23. This implementation has surprising behavior for binary and multiclass classification tasks.\n",
            "  FutureWarning)\n"
          ],
          "name": "stderr"
        }
      ]
    },
    {
      "cell_type": "markdown",
      "metadata": {
        "id": "rSpDCuCqhQSC"
      },
      "source": [
        "# Logistic Regression"
      ]
    },
    {
      "cell_type": "code",
      "metadata": {
        "id": "SquREosRhScJ"
      },
      "source": [
        "from sklearn.linear_model import LogisticRegression"
      ],
      "execution_count": 39,
      "outputs": []
    },
    {
      "cell_type": "code",
      "metadata": {
        "id": "uh-0erXhhUzu"
      },
      "source": [
        "lgm=LogisticRegression()"
      ],
      "execution_count": 40,
      "outputs": []
    },
    {
      "cell_type": "code",
      "metadata": {
        "colab": {
          "base_uri": "https://localhost:8080/"
        },
        "id": "l69e83tjhW9f",
        "outputId": "1e7d5db3-23a0-4d8e-a4a3-67c88083a31c"
      },
      "source": [
        "lgm.fit(X_train,y_train)"
      ],
      "execution_count": 41,
      "outputs": [
        {
          "output_type": "execute_result",
          "data": {
            "text/plain": [
              "LogisticRegression(C=1.0, class_weight=None, dual=False, fit_intercept=True,\n",
              "                   intercept_scaling=1, l1_ratio=None, max_iter=100,\n",
              "                   multi_class='auto', n_jobs=None, penalty='l2',\n",
              "                   random_state=None, solver='lbfgs', tol=0.0001, verbose=0,\n",
              "                   warm_start=False)"
            ]
          },
          "metadata": {
            "tags": []
          },
          "execution_count": 41
        }
      ]
    },
    {
      "cell_type": "code",
      "metadata": {
        "id": "I_osIOfkhZDn"
      },
      "source": [
        "pred_lgm=lgm.predict(X_test)"
      ],
      "execution_count": 42,
      "outputs": []
    },
    {
      "cell_type": "code",
      "metadata": {
        "colab": {
          "base_uri": "https://localhost:8080/"
        },
        "id": "6YhbLEaMhbT2",
        "outputId": "842b28a6-0d9a-46bc-a17f-e04da5d6802b"
      },
      "source": [
        "print(classification_report(y_test,pred_lgm))\r\n",
        "print('\\n')\r\n",
        "print('Jaccard Similarity Score : ',round(jaccard_similarity_score(y_test,pred_lgm)*100,2),'%')\r\n",
        "print('\\n')\r\n",
        "print('F1-SCORE : ',f1_score(y_test,pred_lgm,average=None))\r\n",
        "print('\\n')\r\n",
        "print('Train Accuracy: ',metrics.accuracy_score(y_train, lgm.predict(X_train))*100,'%')"
      ],
      "execution_count": 43,
      "outputs": [
        {
          "output_type": "stream",
          "text": [
            "              precision    recall  f1-score   support\n",
            "\n",
            "  COLLECTION       0.29      0.20      0.24        25\n",
            "     PAIDOFF       0.84      0.89      0.86       114\n",
            "\n",
            "    accuracy                           0.77       139\n",
            "   macro avg       0.57      0.55      0.55       139\n",
            "weighted avg       0.74      0.77      0.75       139\n",
            "\n",
            "\n",
            "\n",
            "Jaccard Similarity Score :  76.98 %\n",
            "\n",
            "\n",
            "F1-SCORE :  [0.23809524 0.86440678]\n",
            "\n",
            "\n",
            "Train Accuracy:  73.91304347826086 %\n"
          ],
          "name": "stdout"
        },
        {
          "output_type": "stream",
          "text": [
            "/usr/local/lib/python3.6/dist-packages/sklearn/metrics/_classification.py:664: FutureWarning: jaccard_similarity_score has been deprecated and replaced with jaccard_score. It will be removed in version 0.23. This implementation has surprising behavior for binary and multiclass classification tasks.\n",
            "  FutureWarning)\n"
          ],
          "name": "stderr"
        }
      ]
    },
    {
      "cell_type": "markdown",
      "metadata": {
        "id": "g6zq7mGZhefq"
      },
      "source": [
        "# Model Evaluation using Test set"
      ]
    },
    {
      "cell_type": "code",
      "metadata": {
        "id": "pNHe3ghIhhiq"
      },
      "source": [
        "from sklearn.metrics import jaccard_similarity_score\r\n",
        "from sklearn.metrics import f1_score\r\n",
        "from sklearn.metrics import log_loss"
      ],
      "execution_count": 74,
      "outputs": []
    },
    {
      "cell_type": "markdown",
      "metadata": {
        "id": "IytUkBRahlsx"
      },
      "source": [
        "First, download and load the test set:"
      ]
    },
    {
      "cell_type": "markdown",
      "metadata": {
        "id": "G4C4kXsrhp2-"
      },
      "source": [
        "#Load Test set for evaluation"
      ]
    },
    {
      "cell_type": "code",
      "metadata": {
        "id": "ubyOKEPRhs3R"
      },
      "source": [
        "#test_df = pd.read_csv('dataset\\loan_test.csv')\r\n",
        "#test_df.head()"
      ],
      "execution_count": 45,
      "outputs": []
    },
    {
      "cell_type": "code",
      "metadata": {
        "id": "nD-Gr46niA7Q"
      },
      "source": [
        "#test_df = pd.read_csv('loan_test.csv')\r\n",
        "#test_df.head()"
      ],
      "execution_count": 46,
      "outputs": []
    },
    {
      "cell_type": "code",
      "metadata": {
        "id": "VOdqnhsQiJSs"
      },
      "source": [
        "from google.colab import files\r\n",
        "#uploaded = files.upload('loan_test.csv')\r\n",
        "import pandas as pd\r\n",
        "#pd.read_csv('/My Drive/sample data/loan_test.csv')\r\n",
        "from google.colab import files\r\n",
        "uploaded = files.upload()"
      ],
      "execution_count": null,
      "outputs": []
    },
    {
      "cell_type": "code",
      "metadata": {
        "colab": {
          "base_uri": "https://localhost:8080/",
          "height": 204
        },
        "id": "VMKmQt_miSOo",
        "outputId": "4b221ae7-cf98-4c79-c34e-1a2468383724"
      },
      "source": [
        "test_df = pd.read_csv('loan_test.csv')\r\n",
        "test_df.head()"
      ],
      "execution_count": 77,
      "outputs": [
        {
          "output_type": "execute_result",
          "data": {
            "text/html": [
              "<div>\n",
              "<style scoped>\n",
              "    .dataframe tbody tr th:only-of-type {\n",
              "        vertical-align: middle;\n",
              "    }\n",
              "\n",
              "    .dataframe tbody tr th {\n",
              "        vertical-align: top;\n",
              "    }\n",
              "\n",
              "    .dataframe thead th {\n",
              "        text-align: right;\n",
              "    }\n",
              "</style>\n",
              "<table border=\"1\" class=\"dataframe\">\n",
              "  <thead>\n",
              "    <tr style=\"text-align: right;\">\n",
              "      <th></th>\n",
              "      <th>Unnamed: 0</th>\n",
              "      <th>Unnamed: 0.1</th>\n",
              "      <th>loan_status</th>\n",
              "      <th>Principal</th>\n",
              "      <th>terms</th>\n",
              "      <th>effective_date</th>\n",
              "      <th>due_date</th>\n",
              "      <th>age</th>\n",
              "      <th>education</th>\n",
              "      <th>Gender</th>\n",
              "    </tr>\n",
              "  </thead>\n",
              "  <tbody>\n",
              "    <tr>\n",
              "      <th>0</th>\n",
              "      <td>1</td>\n",
              "      <td>1</td>\n",
              "      <td>PAIDOFF</td>\n",
              "      <td>1000</td>\n",
              "      <td>30</td>\n",
              "      <td>9/8/2016</td>\n",
              "      <td>10/7/2016</td>\n",
              "      <td>50</td>\n",
              "      <td>Bechalor</td>\n",
              "      <td>female</td>\n",
              "    </tr>\n",
              "    <tr>\n",
              "      <th>1</th>\n",
              "      <td>5</td>\n",
              "      <td>5</td>\n",
              "      <td>PAIDOFF</td>\n",
              "      <td>300</td>\n",
              "      <td>7</td>\n",
              "      <td>9/9/2016</td>\n",
              "      <td>9/15/2016</td>\n",
              "      <td>35</td>\n",
              "      <td>Master or Above</td>\n",
              "      <td>male</td>\n",
              "    </tr>\n",
              "    <tr>\n",
              "      <th>2</th>\n",
              "      <td>21</td>\n",
              "      <td>21</td>\n",
              "      <td>PAIDOFF</td>\n",
              "      <td>1000</td>\n",
              "      <td>30</td>\n",
              "      <td>9/10/2016</td>\n",
              "      <td>10/9/2016</td>\n",
              "      <td>43</td>\n",
              "      <td>High School or Below</td>\n",
              "      <td>female</td>\n",
              "    </tr>\n",
              "    <tr>\n",
              "      <th>3</th>\n",
              "      <td>24</td>\n",
              "      <td>24</td>\n",
              "      <td>PAIDOFF</td>\n",
              "      <td>1000</td>\n",
              "      <td>30</td>\n",
              "      <td>9/10/2016</td>\n",
              "      <td>10/9/2016</td>\n",
              "      <td>26</td>\n",
              "      <td>college</td>\n",
              "      <td>male</td>\n",
              "    </tr>\n",
              "    <tr>\n",
              "      <th>4</th>\n",
              "      <td>35</td>\n",
              "      <td>35</td>\n",
              "      <td>PAIDOFF</td>\n",
              "      <td>800</td>\n",
              "      <td>15</td>\n",
              "      <td>9/11/2016</td>\n",
              "      <td>9/25/2016</td>\n",
              "      <td>29</td>\n",
              "      <td>Bechalor</td>\n",
              "      <td>male</td>\n",
              "    </tr>\n",
              "  </tbody>\n",
              "</table>\n",
              "</div>"
            ],
            "text/plain": [
              "   Unnamed: 0  Unnamed: 0.1 loan_status  ...  age             education  Gender\n",
              "0           1             1     PAIDOFF  ...   50              Bechalor  female\n",
              "1           5             5     PAIDOFF  ...   35       Master or Above    male\n",
              "2          21            21     PAIDOFF  ...   43  High School or Below  female\n",
              "3          24            24     PAIDOFF  ...   26               college    male\n",
              "4          35            35     PAIDOFF  ...   29              Bechalor    male\n",
              "\n",
              "[5 rows x 10 columns]"
            ]
          },
          "metadata": {
            "tags": []
          },
          "execution_count": 77
        }
      ]
    },
    {
      "cell_type": "code",
      "metadata": {
        "colab": {
          "base_uri": "https://localhost:8080/",
          "height": 204
        },
        "id": "BOGzyQEIiXXT",
        "outputId": "1f6a617a-2f4e-4782-bb47-7cbc90e483c1"
      },
      "source": [
        "test_df['due_date'] = pd.to_datetime(test_df['due_date'])\r\n",
        "test_df['effective_date'] = pd.to_datetime(test_df['effective_date'])\r\n",
        "test_df.head()"
      ],
      "execution_count": 63,
      "outputs": [
        {
          "output_type": "execute_result",
          "data": {
            "text/html": [
              "<div>\n",
              "<style scoped>\n",
              "    .dataframe tbody tr th:only-of-type {\n",
              "        vertical-align: middle;\n",
              "    }\n",
              "\n",
              "    .dataframe tbody tr th {\n",
              "        vertical-align: top;\n",
              "    }\n",
              "\n",
              "    .dataframe thead th {\n",
              "        text-align: right;\n",
              "    }\n",
              "</style>\n",
              "<table border=\"1\" class=\"dataframe\">\n",
              "  <thead>\n",
              "    <tr style=\"text-align: right;\">\n",
              "      <th></th>\n",
              "      <th>Unnamed: 0</th>\n",
              "      <th>Unnamed: 0.1</th>\n",
              "      <th>loan_status</th>\n",
              "      <th>Principal</th>\n",
              "      <th>terms</th>\n",
              "      <th>effective_date</th>\n",
              "      <th>due_date</th>\n",
              "      <th>age</th>\n",
              "      <th>education</th>\n",
              "      <th>Gender</th>\n",
              "    </tr>\n",
              "  </thead>\n",
              "  <tbody>\n",
              "    <tr>\n",
              "      <th>0</th>\n",
              "      <td>1</td>\n",
              "      <td>1</td>\n",
              "      <td>PAIDOFF</td>\n",
              "      <td>1000</td>\n",
              "      <td>30</td>\n",
              "      <td>2016-09-08</td>\n",
              "      <td>2016-10-07</td>\n",
              "      <td>50</td>\n",
              "      <td>Bechalor</td>\n",
              "      <td>female</td>\n",
              "    </tr>\n",
              "    <tr>\n",
              "      <th>1</th>\n",
              "      <td>5</td>\n",
              "      <td>5</td>\n",
              "      <td>PAIDOFF</td>\n",
              "      <td>300</td>\n",
              "      <td>7</td>\n",
              "      <td>2016-09-09</td>\n",
              "      <td>2016-09-15</td>\n",
              "      <td>35</td>\n",
              "      <td>Master or Above</td>\n",
              "      <td>male</td>\n",
              "    </tr>\n",
              "    <tr>\n",
              "      <th>2</th>\n",
              "      <td>21</td>\n",
              "      <td>21</td>\n",
              "      <td>PAIDOFF</td>\n",
              "      <td>1000</td>\n",
              "      <td>30</td>\n",
              "      <td>2016-09-10</td>\n",
              "      <td>2016-10-09</td>\n",
              "      <td>43</td>\n",
              "      <td>High School or Below</td>\n",
              "      <td>female</td>\n",
              "    </tr>\n",
              "    <tr>\n",
              "      <th>3</th>\n",
              "      <td>24</td>\n",
              "      <td>24</td>\n",
              "      <td>PAIDOFF</td>\n",
              "      <td>1000</td>\n",
              "      <td>30</td>\n",
              "      <td>2016-09-10</td>\n",
              "      <td>2016-10-09</td>\n",
              "      <td>26</td>\n",
              "      <td>college</td>\n",
              "      <td>male</td>\n",
              "    </tr>\n",
              "    <tr>\n",
              "      <th>4</th>\n",
              "      <td>35</td>\n",
              "      <td>35</td>\n",
              "      <td>PAIDOFF</td>\n",
              "      <td>800</td>\n",
              "      <td>15</td>\n",
              "      <td>2016-09-11</td>\n",
              "      <td>2016-09-25</td>\n",
              "      <td>29</td>\n",
              "      <td>Bechalor</td>\n",
              "      <td>male</td>\n",
              "    </tr>\n",
              "  </tbody>\n",
              "</table>\n",
              "</div>"
            ],
            "text/plain": [
              "   Unnamed: 0  Unnamed: 0.1 loan_status  ...  age             education  Gender\n",
              "0           1             1     PAIDOFF  ...   50              Bechalor  female\n",
              "1           5             5     PAIDOFF  ...   35       Master or Above    male\n",
              "2          21            21     PAIDOFF  ...   43  High School or Below  female\n",
              "3          24            24     PAIDOFF  ...   26               college    male\n",
              "4          35            35     PAIDOFF  ...   29              Bechalor    male\n",
              "\n",
              "[5 rows x 10 columns]"
            ]
          },
          "metadata": {
            "tags": []
          },
          "execution_count": 63
        }
      ]
    },
    {
      "cell_type": "code",
      "metadata": {
        "colab": {
          "base_uri": "https://localhost:8080/",
          "height": 306
        },
        "id": "vXoeSZWQiYoA",
        "outputId": "ee52f447-131a-4b6e-e878-249bbb7998a5"
      },
      "source": [
        "test_df['dayofweek'] = test_df['effective_date'].dt.dayofweek\r\n",
        "test_df.head()"
      ],
      "execution_count": 64,
      "outputs": [
        {
          "output_type": "execute_result",
          "data": {
            "text/html": [
              "<div>\n",
              "<style scoped>\n",
              "    .dataframe tbody tr th:only-of-type {\n",
              "        vertical-align: middle;\n",
              "    }\n",
              "\n",
              "    .dataframe tbody tr th {\n",
              "        vertical-align: top;\n",
              "    }\n",
              "\n",
              "    .dataframe thead th {\n",
              "        text-align: right;\n",
              "    }\n",
              "</style>\n",
              "<table border=\"1\" class=\"dataframe\">\n",
              "  <thead>\n",
              "    <tr style=\"text-align: right;\">\n",
              "      <th></th>\n",
              "      <th>Unnamed: 0</th>\n",
              "      <th>Unnamed: 0.1</th>\n",
              "      <th>loan_status</th>\n",
              "      <th>Principal</th>\n",
              "      <th>terms</th>\n",
              "      <th>effective_date</th>\n",
              "      <th>due_date</th>\n",
              "      <th>age</th>\n",
              "      <th>education</th>\n",
              "      <th>Gender</th>\n",
              "      <th>dayofweek</th>\n",
              "    </tr>\n",
              "  </thead>\n",
              "  <tbody>\n",
              "    <tr>\n",
              "      <th>0</th>\n",
              "      <td>1</td>\n",
              "      <td>1</td>\n",
              "      <td>PAIDOFF</td>\n",
              "      <td>1000</td>\n",
              "      <td>30</td>\n",
              "      <td>2016-09-08</td>\n",
              "      <td>2016-10-07</td>\n",
              "      <td>50</td>\n",
              "      <td>Bechalor</td>\n",
              "      <td>female</td>\n",
              "      <td>3</td>\n",
              "    </tr>\n",
              "    <tr>\n",
              "      <th>1</th>\n",
              "      <td>5</td>\n",
              "      <td>5</td>\n",
              "      <td>PAIDOFF</td>\n",
              "      <td>300</td>\n",
              "      <td>7</td>\n",
              "      <td>2016-09-09</td>\n",
              "      <td>2016-09-15</td>\n",
              "      <td>35</td>\n",
              "      <td>Master or Above</td>\n",
              "      <td>male</td>\n",
              "      <td>4</td>\n",
              "    </tr>\n",
              "    <tr>\n",
              "      <th>2</th>\n",
              "      <td>21</td>\n",
              "      <td>21</td>\n",
              "      <td>PAIDOFF</td>\n",
              "      <td>1000</td>\n",
              "      <td>30</td>\n",
              "      <td>2016-09-10</td>\n",
              "      <td>2016-10-09</td>\n",
              "      <td>43</td>\n",
              "      <td>High School or Below</td>\n",
              "      <td>female</td>\n",
              "      <td>5</td>\n",
              "    </tr>\n",
              "    <tr>\n",
              "      <th>3</th>\n",
              "      <td>24</td>\n",
              "      <td>24</td>\n",
              "      <td>PAIDOFF</td>\n",
              "      <td>1000</td>\n",
              "      <td>30</td>\n",
              "      <td>2016-09-10</td>\n",
              "      <td>2016-10-09</td>\n",
              "      <td>26</td>\n",
              "      <td>college</td>\n",
              "      <td>male</td>\n",
              "      <td>5</td>\n",
              "    </tr>\n",
              "    <tr>\n",
              "      <th>4</th>\n",
              "      <td>35</td>\n",
              "      <td>35</td>\n",
              "      <td>PAIDOFF</td>\n",
              "      <td>800</td>\n",
              "      <td>15</td>\n",
              "      <td>2016-09-11</td>\n",
              "      <td>2016-09-25</td>\n",
              "      <td>29</td>\n",
              "      <td>Bechalor</td>\n",
              "      <td>male</td>\n",
              "      <td>6</td>\n",
              "    </tr>\n",
              "  </tbody>\n",
              "</table>\n",
              "</div>"
            ],
            "text/plain": [
              "   Unnamed: 0  Unnamed: 0.1  ...  Gender  dayofweek\n",
              "0           1             1  ...  female          3\n",
              "1           5             5  ...    male          4\n",
              "2          21            21  ...  female          5\n",
              "3          24            24  ...    male          5\n",
              "4          35            35  ...    male          6\n",
              "\n",
              "[5 rows x 11 columns]"
            ]
          },
          "metadata": {
            "tags": []
          },
          "execution_count": 64
        }
      ]
    },
    {
      "cell_type": "code",
      "metadata": {
        "id": "l9QyUosribDP"
      },
      "source": [
        "test_df['weekend']=test_df['dayofweek'].apply(lambda x: 1 if (x>3) else 0)"
      ],
      "execution_count": 65,
      "outputs": []
    },
    {
      "cell_type": "code",
      "metadata": {
        "colab": {
          "base_uri": "https://localhost:8080/",
          "height": 348
        },
        "id": "nYO9SS8Viegw",
        "outputId": "2a1b9d54-3366-430e-de59-786a9cbd8096"
      },
      "source": [
        "sns.heatmap(test_df.isnull())"
      ],
      "execution_count": 66,
      "outputs": [
        {
          "output_type": "execute_result",
          "data": {
            "text/plain": [
              "<matplotlib.axes._subplots.AxesSubplot at 0x7f602371e9b0>"
            ]
          },
          "metadata": {
            "tags": []
          },
          "execution_count": 66
        },
        {
          "output_type": "display_data",
          "data": {
            "image/png": "[encoded data removed]",
            "text/plain": [
              "<Figure size 432x288 with 2 Axes>"
            ]
          },
          "metadata": {
            "tags": [],
            "needs_background": "light"
          }
        }
      ]
    },
    {
      "cell_type": "code",
      "metadata": {
        "id": "1scZM9doijJM"
      },
      "source": [
        "test_df['Gender'].replace(to_replace=['male','female'], value=[0,1],inplace=True)"
      ],
      "execution_count": 67,
      "outputs": []
    },
    {
      "cell_type": "code",
      "metadata": {
        "id": "lUoJWpwAimzi"
      },
      "source": [
        "dumm=pd.get_dummies(test_df['education'])\r\n",
        "dumm=dumm.drop('Master or Above',axis=1,inplace=True)\r\n",
        "#dumm=dumm[['Bechalor','High School or Below','college']]"
      ],
      "execution_count": 68,
      "outputs": []
    },
    {
      "cell_type": "code",
      "metadata": {
        "colab": {
          "base_uri": "https://localhost:8080/",
          "height": 204
        },
        "id": "0YGyrz2yivAh",
        "outputId": "cf45855c-0c88-4b04-dd97-10b9ede7dd85"
      },
      "source": [
        "test_feature = test_df[['Principal','terms','age','Gender','weekend']]\r\n",
        "test_feature = pd.concat([test_feature,dumm], axis=1)\r\n",
        "#test_feature.drop(['Master or Above'], axis = 1,inplace=True)\r\n",
        "test_feature.head()"
      ],
      "execution_count": 69,
      "outputs": [
        {
          "output_type": "execute_result",
          "data": {
            "text/html": [
              "<div>\n",
              "<style scoped>\n",
              "    .dataframe tbody tr th:only-of-type {\n",
              "        vertical-align: middle;\n",
              "    }\n",
              "\n",
              "    .dataframe tbody tr th {\n",
              "        vertical-align: top;\n",
              "    }\n",
              "\n",
              "    .dataframe thead th {\n",
              "        text-align: right;\n",
              "    }\n",
              "</style>\n",
              "<table border=\"1\" class=\"dataframe\">\n",
              "  <thead>\n",
              "    <tr style=\"text-align: right;\">\n",
              "      <th></th>\n",
              "      <th>Principal</th>\n",
              "      <th>terms</th>\n",
              "      <th>age</th>\n",
              "      <th>Gender</th>\n",
              "      <th>weekend</th>\n",
              "    </tr>\n",
              "  </thead>\n",
              "  <tbody>\n",
              "    <tr>\n",
              "      <th>0</th>\n",
              "      <td>1000</td>\n",
              "      <td>30</td>\n",
              "      <td>50</td>\n",
              "      <td>1</td>\n",
              "      <td>0</td>\n",
              "    </tr>\n",
              "    <tr>\n",
              "      <th>1</th>\n",
              "      <td>300</td>\n",
              "      <td>7</td>\n",
              "      <td>35</td>\n",
              "      <td>0</td>\n",
              "      <td>1</td>\n",
              "    </tr>\n",
              "    <tr>\n",
              "      <th>2</th>\n",
              "      <td>1000</td>\n",
              "      <td>30</td>\n",
              "      <td>43</td>\n",
              "      <td>1</td>\n",
              "      <td>1</td>\n",
              "    </tr>\n",
              "    <tr>\n",
              "      <th>3</th>\n",
              "      <td>1000</td>\n",
              "      <td>30</td>\n",
              "      <td>26</td>\n",
              "      <td>0</td>\n",
              "      <td>1</td>\n",
              "    </tr>\n",
              "    <tr>\n",
              "      <th>4</th>\n",
              "      <td>800</td>\n",
              "      <td>15</td>\n",
              "      <td>29</td>\n",
              "      <td>0</td>\n",
              "      <td>1</td>\n",
              "    </tr>\n",
              "  </tbody>\n",
              "</table>\n",
              "</div>"
            ],
            "text/plain": [
              "   Principal  terms  age  Gender  weekend\n",
              "0       1000     30   50       1        0\n",
              "1        300      7   35       0        1\n",
              "2       1000     30   43       1        1\n",
              "3       1000     30   26       0        1\n",
              "4        800     15   29       0        1"
            ]
          },
          "metadata": {
            "tags": []
          },
          "execution_count": 69
        }
      ]
    },
    {
      "cell_type": "code",
      "metadata": {
        "id": "6kLefLGKi4FS"
      },
      "source": [
        "test_data= test_feature\r\n",
        "test_data= preprocessing.StandardScaler().fit(test_data).transform(test_data)"
      ],
      "execution_count": 70,
      "outputs": []
    },
    {
      "cell_type": "code",
      "metadata": {
        "id": "iUlzu6_Li7y9"
      },
      "source": [
        "y_t=test_df['loan_status']"
      ],
      "execution_count": 71,
      "outputs": []
    },
    {
      "cell_type": "markdown",
      "metadata": {
        "id": "j9c2AnRYi_Xx"
      },
      "source": [
        "# i will use train.csv for train model, and test.csv for testing model KNN"
      ]
    },
    {
      "cell_type": "code",
      "metadata": {
        "colab": {
          "base_uri": "https://localhost:8080/",
          "height": 408
        },
        "id": "k91EbtUMrr9-",
        "outputId": "04a75280-85df-4a97-9744-58c9ef15ea3d"
      },
      "source": [
        "knn=KNeighborsClassifier()\r\n",
        "knn.fit(X,y)\r\n",
        "predKNN_test=knn.predict(test_data)\r\n",
        "accuracy=metrics.accuracy_score(predKNN_test,y_t)\r\n",
        "print(\"accuracy : \",round(accuracy,3)*100,'%')"
      ],
      "execution_count": 79,
      "outputs": [
        {
          "output_type": "error",
          "ename": "ValueError",
          "evalue": "ignored",
          "traceback": [
            "\u001b[0;31m---------------------------------------------------------------------------\u001b[0m",
            "\u001b[0;31mValueError\u001b[0m                                Traceback (most recent call last)",
            "\u001b[0;32m<ipython-input-79-a9286944f118>\u001b[0m in \u001b[0;36m<module>\u001b[0;34m()\u001b[0m\n\u001b[1;32m      1\u001b[0m \u001b[0mknn\u001b[0m\u001b[0;34m=\u001b[0m\u001b[0mKNeighborsClassifier\u001b[0m\u001b[0;34m(\u001b[0m\u001b[0;34m)\u001b[0m\u001b[0;34m\u001b[0m\u001b[0;34m\u001b[0m\u001b[0m\n\u001b[1;32m      2\u001b[0m \u001b[0mknn\u001b[0m\u001b[0;34m.\u001b[0m\u001b[0mfit\u001b[0m\u001b[0;34m(\u001b[0m\u001b[0mX\u001b[0m\u001b[0;34m,\u001b[0m\u001b[0my\u001b[0m\u001b[0;34m)\u001b[0m\u001b[0;34m\u001b[0m\u001b[0;34m\u001b[0m\u001b[0m\n\u001b[0;32m----> 3\u001b[0;31m \u001b[0mpredKNN_test\u001b[0m\u001b[0;34m=\u001b[0m\u001b[0mknn\u001b[0m\u001b[0;34m.\u001b[0m\u001b[0mpredict\u001b[0m\u001b[0;34m(\u001b[0m\u001b[0mtest_data\u001b[0m\u001b[0;34m)\u001b[0m\u001b[0;34m\u001b[0m\u001b[0;34m\u001b[0m\u001b[0m\n\u001b[0m\u001b[1;32m      4\u001b[0m \u001b[0maccuracy\u001b[0m\u001b[0;34m=\u001b[0m\u001b[0mmetrics\u001b[0m\u001b[0;34m.\u001b[0m\u001b[0maccuracy_score\u001b[0m\u001b[0;34m(\u001b[0m\u001b[0mpredKNN_test\u001b[0m\u001b[0;34m,\u001b[0m\u001b[0my_t\u001b[0m\u001b[0;34m)\u001b[0m\u001b[0;34m\u001b[0m\u001b[0;34m\u001b[0m\u001b[0m\n\u001b[1;32m      5\u001b[0m \u001b[0mprint\u001b[0m\u001b[0;34m(\u001b[0m\u001b[0;34m\"accuracy : \"\u001b[0m\u001b[0;34m,\u001b[0m\u001b[0mround\u001b[0m\u001b[0;34m(\u001b[0m\u001b[0maccuracy\u001b[0m\u001b[0;34m,\u001b[0m\u001b[0;36m3\u001b[0m\u001b[0;34m)\u001b[0m\u001b[0;34m*\u001b[0m\u001b[0;36m100\u001b[0m\u001b[0;34m,\u001b[0m\u001b[0;34m'%'\u001b[0m\u001b[0;34m)\u001b[0m\u001b[0;34m\u001b[0m\u001b[0;34m\u001b[0m\u001b[0m\n",
            "\u001b[0;32m/usr/local/lib/python3.6/dist-packages/sklearn/neighbors/_classification.py\u001b[0m in \u001b[0;36mpredict\u001b[0;34m(self, X)\u001b[0m\n\u001b[1;32m    171\u001b[0m         \u001b[0mX\u001b[0m \u001b[0;34m=\u001b[0m \u001b[0mcheck_array\u001b[0m\u001b[0;34m(\u001b[0m\u001b[0mX\u001b[0m\u001b[0;34m,\u001b[0m \u001b[0maccept_sparse\u001b[0m\u001b[0;34m=\u001b[0m\u001b[0;34m'csr'\u001b[0m\u001b[0;34m)\u001b[0m\u001b[0;34m\u001b[0m\u001b[0;34m\u001b[0m\u001b[0m\n\u001b[1;32m    172\u001b[0m \u001b[0;34m\u001b[0m\u001b[0m\n\u001b[0;32m--> 173\u001b[0;31m         \u001b[0mneigh_dist\u001b[0m\u001b[0;34m,\u001b[0m \u001b[0mneigh_ind\u001b[0m \u001b[0;34m=\u001b[0m \u001b[0mself\u001b[0m\u001b[0;34m.\u001b[0m\u001b[0mkneighbors\u001b[0m\u001b[0;34m(\u001b[0m\u001b[0mX\u001b[0m\u001b[0;34m)\u001b[0m\u001b[0;34m\u001b[0m\u001b[0;34m\u001b[0m\u001b[0m\n\u001b[0m\u001b[1;32m    174\u001b[0m         \u001b[0mclasses_\u001b[0m \u001b[0;34m=\u001b[0m \u001b[0mself\u001b[0m\u001b[0;34m.\u001b[0m\u001b[0mclasses_\u001b[0m\u001b[0;34m\u001b[0m\u001b[0;34m\u001b[0m\u001b[0m\n\u001b[1;32m    175\u001b[0m         \u001b[0m_y\u001b[0m \u001b[0;34m=\u001b[0m \u001b[0mself\u001b[0m\u001b[0;34m.\u001b[0m\u001b[0m_y\u001b[0m\u001b[0;34m\u001b[0m\u001b[0;34m\u001b[0m\u001b[0m\n",
            "\u001b[0;32m/usr/local/lib/python3.6/dist-packages/sklearn/neighbors/_base.py\u001b[0m in \u001b[0;36mkneighbors\u001b[0;34m(self, X, n_neighbors, return_distance)\u001b[0m\n\u001b[1;32m    662\u001b[0m                 delayed_query(\n\u001b[1;32m    663\u001b[0m                     self._tree, X[s], n_neighbors, return_distance)\n\u001b[0;32m--> 664\u001b[0;31m                 \u001b[0;32mfor\u001b[0m \u001b[0ms\u001b[0m \u001b[0;32min\u001b[0m \u001b[0mgen_even_slices\u001b[0m\u001b[0;34m(\u001b[0m\u001b[0mX\u001b[0m\u001b[0;34m.\u001b[0m\u001b[0mshape\u001b[0m\u001b[0;34m[\u001b[0m\u001b[0;36m0\u001b[0m\u001b[0;34m]\u001b[0m\u001b[0;34m,\u001b[0m \u001b[0mn_jobs\u001b[0m\u001b[0;34m)\u001b[0m\u001b[0;34m\u001b[0m\u001b[0;34m\u001b[0m\u001b[0m\n\u001b[0m\u001b[1;32m    665\u001b[0m             )\n\u001b[1;32m    666\u001b[0m         \u001b[0;32melse\u001b[0m\u001b[0;34m:\u001b[0m\u001b[0;34m\u001b[0m\u001b[0;34m\u001b[0m\u001b[0m\n",
            "\u001b[0;32m/usr/local/lib/python3.6/dist-packages/joblib/parallel.py\u001b[0m in \u001b[0;36m__call__\u001b[0;34m(self, iterable)\u001b[0m\n\u001b[1;32m   1039\u001b[0m             \u001b[0;31m# remaining jobs.\u001b[0m\u001b[0;34m\u001b[0m\u001b[0;34m\u001b[0m\u001b[0;34m\u001b[0m\u001b[0m\n\u001b[1;32m   1040\u001b[0m             \u001b[0mself\u001b[0m\u001b[0;34m.\u001b[0m\u001b[0m_iterating\u001b[0m \u001b[0;34m=\u001b[0m \u001b[0;32mFalse\u001b[0m\u001b[0;34m\u001b[0m\u001b[0;34m\u001b[0m\u001b[0m\n\u001b[0;32m-> 1041\u001b[0;31m             \u001b[0;32mif\u001b[0m \u001b[0mself\u001b[0m\u001b[0;34m.\u001b[0m\u001b[0mdispatch_one_batch\u001b[0m\u001b[0;34m(\u001b[0m\u001b[0miterator\u001b[0m\u001b[0;34m)\u001b[0m\u001b[0;34m:\u001b[0m\u001b[0;34m\u001b[0m\u001b[0;34m\u001b[0m\u001b[0m\n\u001b[0m\u001b[1;32m   1042\u001b[0m                 \u001b[0mself\u001b[0m\u001b[0;34m.\u001b[0m\u001b[0m_iterating\u001b[0m \u001b[0;34m=\u001b[0m \u001b[0mself\u001b[0m\u001b[0;34m.\u001b[0m\u001b[0m_original_iterator\u001b[0m \u001b[0;32mis\u001b[0m \u001b[0;32mnot\u001b[0m \u001b[0;32mNone\u001b[0m\u001b[0;34m\u001b[0m\u001b[0;34m\u001b[0m\u001b[0m\n\u001b[1;32m   1043\u001b[0m \u001b[0;34m\u001b[0m\u001b[0m\n",
            "\u001b[0;32m/usr/local/lib/python3.6/dist-packages/joblib/parallel.py\u001b[0m in \u001b[0;36mdispatch_one_batch\u001b[0;34m(self, iterator)\u001b[0m\n\u001b[1;32m    857\u001b[0m                 \u001b[0;32mreturn\u001b[0m \u001b[0;32mFalse\u001b[0m\u001b[0;34m\u001b[0m\u001b[0;34m\u001b[0m\u001b[0m\n\u001b[1;32m    858\u001b[0m             \u001b[0;32melse\u001b[0m\u001b[0;34m:\u001b[0m\u001b[0;34m\u001b[0m\u001b[0;34m\u001b[0m\u001b[0m\n\u001b[0;32m--> 859\u001b[0;31m                 \u001b[0mself\u001b[0m\u001b[0;34m.\u001b[0m\u001b[0m_dispatch\u001b[0m\u001b[0;34m(\u001b[0m\u001b[0mtasks\u001b[0m\u001b[0;34m)\u001b[0m\u001b[0;34m\u001b[0m\u001b[0;34m\u001b[0m\u001b[0m\n\u001b[0m\u001b[1;32m    860\u001b[0m                 \u001b[0;32mreturn\u001b[0m \u001b[0;32mTrue\u001b[0m\u001b[0;34m\u001b[0m\u001b[0;34m\u001b[0m\u001b[0m\n\u001b[1;32m    861\u001b[0m \u001b[0;34m\u001b[0m\u001b[0m\n",
            "\u001b[0;32m/usr/local/lib/python3.6/dist-packages/joblib/parallel.py\u001b[0m in \u001b[0;36m_dispatch\u001b[0;34m(self, batch)\u001b[0m\n\u001b[1;32m    775\u001b[0m         \u001b[0;32mwith\u001b[0m \u001b[0mself\u001b[0m\u001b[0;34m.\u001b[0m\u001b[0m_lock\u001b[0m\u001b[0;34m:\u001b[0m\u001b[0;34m\u001b[0m\u001b[0;34m\u001b[0m\u001b[0m\n\u001b[1;32m    776\u001b[0m             \u001b[0mjob_idx\u001b[0m \u001b[0;34m=\u001b[0m \u001b[0mlen\u001b[0m\u001b[0;34m(\u001b[0m\u001b[0mself\u001b[0m\u001b[0;34m.\u001b[0m\u001b[0m_jobs\u001b[0m\u001b[0;34m)\u001b[0m\u001b[0;34m\u001b[0m\u001b[0;34m\u001b[0m\u001b[0m\n\u001b[0;32m--> 777\u001b[0;31m             \u001b[0mjob\u001b[0m \u001b[0;34m=\u001b[0m \u001b[0mself\u001b[0m\u001b[0;34m.\u001b[0m\u001b[0m_backend\u001b[0m\u001b[0;34m.\u001b[0m\u001b[0mapply_async\u001b[0m\u001b[0;34m(\u001b[0m\u001b[0mbatch\u001b[0m\u001b[0;34m,\u001b[0m \u001b[0mcallback\u001b[0m\u001b[0;34m=\u001b[0m\u001b[0mcb\u001b[0m\u001b[0;34m)\u001b[0m\u001b[0;34m\u001b[0m\u001b[0;34m\u001b[0m\u001b[0m\n\u001b[0m\u001b[1;32m    778\u001b[0m             \u001b[0;31m# A job can complete so quickly than its callback is\u001b[0m\u001b[0;34m\u001b[0m\u001b[0;34m\u001b[0m\u001b[0;34m\u001b[0m\u001b[0m\n\u001b[1;32m    779\u001b[0m             \u001b[0;31m# called before we get here, causing self._jobs to\u001b[0m\u001b[0;34m\u001b[0m\u001b[0;34m\u001b[0m\u001b[0;34m\u001b[0m\u001b[0m\n",
            "\u001b[0;32m/usr/local/lib/python3.6/dist-packages/joblib/_parallel_backends.py\u001b[0m in \u001b[0;36mapply_async\u001b[0;34m(self, func, callback)\u001b[0m\n\u001b[1;32m    206\u001b[0m     \u001b[0;32mdef\u001b[0m \u001b[0mapply_async\u001b[0m\u001b[0;34m(\u001b[0m\u001b[0mself\u001b[0m\u001b[0;34m,\u001b[0m \u001b[0mfunc\u001b[0m\u001b[0;34m,\u001b[0m \u001b[0mcallback\u001b[0m\u001b[0;34m=\u001b[0m\u001b[0;32mNone\u001b[0m\u001b[0;34m)\u001b[0m\u001b[0;34m:\u001b[0m\u001b[0;34m\u001b[0m\u001b[0;34m\u001b[0m\u001b[0m\n\u001b[1;32m    207\u001b[0m         \u001b[0;34m\"\"\"Schedule a func to be run\"\"\"\u001b[0m\u001b[0;34m\u001b[0m\u001b[0;34m\u001b[0m\u001b[0m\n\u001b[0;32m--> 208\u001b[0;31m         \u001b[0mresult\u001b[0m \u001b[0;34m=\u001b[0m \u001b[0mImmediateResult\u001b[0m\u001b[0;34m(\u001b[0m\u001b[0mfunc\u001b[0m\u001b[0;34m)\u001b[0m\u001b[0;34m\u001b[0m\u001b[0;34m\u001b[0m\u001b[0m\n\u001b[0m\u001b[1;32m    209\u001b[0m         \u001b[0;32mif\u001b[0m \u001b[0mcallback\u001b[0m\u001b[0;34m:\u001b[0m\u001b[0;34m\u001b[0m\u001b[0;34m\u001b[0m\u001b[0m\n\u001b[1;32m    210\u001b[0m             \u001b[0mcallback\u001b[0m\u001b[0;34m(\u001b[0m\u001b[0mresult\u001b[0m\u001b[0;34m)\u001b[0m\u001b[0;34m\u001b[0m\u001b[0;34m\u001b[0m\u001b[0m\n",
            "\u001b[0;32m/usr/local/lib/python3.6/dist-packages/joblib/_parallel_backends.py\u001b[0m in \u001b[0;36m__init__\u001b[0;34m(self, batch)\u001b[0m\n\u001b[1;32m    570\u001b[0m         \u001b[0;31m# Don't delay the application, to avoid keeping the input\u001b[0m\u001b[0;34m\u001b[0m\u001b[0;34m\u001b[0m\u001b[0;34m\u001b[0m\u001b[0m\n\u001b[1;32m    571\u001b[0m         \u001b[0;31m# arguments in memory\u001b[0m\u001b[0;34m\u001b[0m\u001b[0;34m\u001b[0m\u001b[0;34m\u001b[0m\u001b[0m\n\u001b[0;32m--> 572\u001b[0;31m         \u001b[0mself\u001b[0m\u001b[0;34m.\u001b[0m\u001b[0mresults\u001b[0m \u001b[0;34m=\u001b[0m \u001b[0mbatch\u001b[0m\u001b[0;34m(\u001b[0m\u001b[0;34m)\u001b[0m\u001b[0;34m\u001b[0m\u001b[0;34m\u001b[0m\u001b[0m\n\u001b[0m\u001b[1;32m    573\u001b[0m \u001b[0;34m\u001b[0m\u001b[0m\n\u001b[1;32m    574\u001b[0m     \u001b[0;32mdef\u001b[0m \u001b[0mget\u001b[0m\u001b[0;34m(\u001b[0m\u001b[0mself\u001b[0m\u001b[0;34m)\u001b[0m\u001b[0;34m:\u001b[0m\u001b[0;34m\u001b[0m\u001b[0;34m\u001b[0m\u001b[0m\n",
            "\u001b[0;32m/usr/local/lib/python3.6/dist-packages/joblib/parallel.py\u001b[0m in \u001b[0;36m__call__\u001b[0;34m(self)\u001b[0m\n\u001b[1;32m    261\u001b[0m         \u001b[0;32mwith\u001b[0m \u001b[0mparallel_backend\u001b[0m\u001b[0;34m(\u001b[0m\u001b[0mself\u001b[0m\u001b[0;34m.\u001b[0m\u001b[0m_backend\u001b[0m\u001b[0;34m,\u001b[0m \u001b[0mn_jobs\u001b[0m\u001b[0;34m=\u001b[0m\u001b[0mself\u001b[0m\u001b[0;34m.\u001b[0m\u001b[0m_n_jobs\u001b[0m\u001b[0;34m)\u001b[0m\u001b[0;34m:\u001b[0m\u001b[0;34m\u001b[0m\u001b[0;34m\u001b[0m\u001b[0m\n\u001b[1;32m    262\u001b[0m             return [func(*args, **kwargs)\n\u001b[0;32m--> 263\u001b[0;31m                     for func, args, kwargs in self.items]\n\u001b[0m\u001b[1;32m    264\u001b[0m \u001b[0;34m\u001b[0m\u001b[0m\n\u001b[1;32m    265\u001b[0m     \u001b[0;32mdef\u001b[0m \u001b[0m__reduce__\u001b[0m\u001b[0;34m(\u001b[0m\u001b[0mself\u001b[0m\u001b[0;34m)\u001b[0m\u001b[0;34m:\u001b[0m\u001b[0;34m\u001b[0m\u001b[0;34m\u001b[0m\u001b[0m\n",
            "\u001b[0;32m/usr/local/lib/python3.6/dist-packages/joblib/parallel.py\u001b[0m in \u001b[0;36m<listcomp>\u001b[0;34m(.0)\u001b[0m\n\u001b[1;32m    261\u001b[0m         \u001b[0;32mwith\u001b[0m \u001b[0mparallel_backend\u001b[0m\u001b[0;34m(\u001b[0m\u001b[0mself\u001b[0m\u001b[0;34m.\u001b[0m\u001b[0m_backend\u001b[0m\u001b[0;34m,\u001b[0m \u001b[0mn_jobs\u001b[0m\u001b[0;34m=\u001b[0m\u001b[0mself\u001b[0m\u001b[0;34m.\u001b[0m\u001b[0m_n_jobs\u001b[0m\u001b[0;34m)\u001b[0m\u001b[0;34m:\u001b[0m\u001b[0;34m\u001b[0m\u001b[0;34m\u001b[0m\u001b[0m\n\u001b[1;32m    262\u001b[0m             return [func(*args, **kwargs)\n\u001b[0;32m--> 263\u001b[0;31m                     for func, args, kwargs in self.items]\n\u001b[0m\u001b[1;32m    264\u001b[0m \u001b[0;34m\u001b[0m\u001b[0m\n\u001b[1;32m    265\u001b[0m     \u001b[0;32mdef\u001b[0m \u001b[0m__reduce__\u001b[0m\u001b[0;34m(\u001b[0m\u001b[0mself\u001b[0m\u001b[0;34m)\u001b[0m\u001b[0;34m:\u001b[0m\u001b[0;34m\u001b[0m\u001b[0;34m\u001b[0m\u001b[0m\n",
            "\u001b[0;32m/usr/local/lib/python3.6/dist-packages/sklearn/neighbors/_base.py\u001b[0m in \u001b[0;36m_tree_query_parallel_helper\u001b[0;34m(tree, *args, **kwargs)\u001b[0m\n\u001b[1;32m    489\u001b[0m     \u001b[0munder\u001b[0m \u001b[0mPyPy\u001b[0m\u001b[0;34m.\u001b[0m\u001b[0;34m\u001b[0m\u001b[0;34m\u001b[0m\u001b[0m\n\u001b[1;32m    490\u001b[0m     \"\"\"\n\u001b[0;32m--> 491\u001b[0;31m     \u001b[0;32mreturn\u001b[0m \u001b[0mtree\u001b[0m\u001b[0;34m.\u001b[0m\u001b[0mquery\u001b[0m\u001b[0;34m(\u001b[0m\u001b[0;34m*\u001b[0m\u001b[0margs\u001b[0m\u001b[0;34m,\u001b[0m \u001b[0;34m**\u001b[0m\u001b[0mkwargs\u001b[0m\u001b[0;34m)\u001b[0m\u001b[0;34m\u001b[0m\u001b[0;34m\u001b[0m\u001b[0m\n\u001b[0m\u001b[1;32m    492\u001b[0m \u001b[0;34m\u001b[0m\u001b[0m\n\u001b[1;32m    493\u001b[0m \u001b[0;34m\u001b[0m\u001b[0m\n",
            "\u001b[0;32msklearn/neighbors/_binary_tree.pxi\u001b[0m in \u001b[0;36msklearn.neighbors._kd_tree.BinaryTree.query\u001b[0;34m()\u001b[0m\n",
            "\u001b[0;31mValueError\u001b[0m: query data dimension must match training data dimension"
          ]
        }
      ]
    }
  ]
}